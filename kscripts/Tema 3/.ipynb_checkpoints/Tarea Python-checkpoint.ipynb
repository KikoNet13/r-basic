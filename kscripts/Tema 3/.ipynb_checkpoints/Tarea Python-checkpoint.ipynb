{
 "cells": [
  {
   "cell_type": "code",
   "execution_count": 1,
   "id": "a7c5d426",
   "metadata": {},
   "outputs": [
    {
     "name": "stdout",
     "output_type": "stream",
     "text": [
      "3.0 2.0\n",
      "3.0 0.5\n",
      "2.0 5.0\n"
     ]
    }
   ],
   "source": [
    "import math\n",
    "\n",
    "def ecuacion2grado(a, b, c):\n",
    "    sol1 = (-b + math.sqrt(b**2 - 4*a*c)) / (2*a)\n",
    "    sol2 = (-b - math.sqrt(b**2 - 4*a*c)) / (2*a)\n",
    "    print(sol1, sol2)\n",
    "ecuacion2grado(1, -5, 6) # 3.0 2.0\n",
    "ecuacion2grado(2, -7, 3) # 3.0 0.5\n",
    "ecuacion2grado(-1, 7, -10) # 2.0 5.0"
   ]
  },
  {
   "cell_type": "code",
   "execution_count": 17,
   "id": "64ad28e2",
   "metadata": {},
   "outputs": [
    {
     "data": {
      "text/plain": [
       "True"
      ]
     },
     "execution_count": 17,
     "metadata": {},
     "output_type": "execute_result"
    }
   ],
   "source": [
    "def esPalindromo(frase):\n",
    "    frase = list(frase.replace(\" \", \"\"))\n",
    "    return frase == frase[::-1]\n",
    "esPalindromo(\"La ruta nos aportó otro paso natural\") # False\n",
    "esPalindromo(\"la ruta nos aporto otro paso natural\") # True"
   ]
  },
  {
   "cell_type": "code",
   "execution_count": 21,
   "id": "9b52e4ef",
   "metadata": {},
   "outputs": [
    {
     "name": "stdout",
     "output_type": "stream",
     "text": [
      "{1: 1, 2: 4, 3: 9, 4: 16, 5: 25, 6: 36, 7: 49, 8: 64, 9: 81, 10: 100}\n"
     ]
    }
   ],
   "source": [
    "d = {}\n",
    "for i in range(1,11):\n",
    "    d[i] = i**2\n",
    "print(d)\n",
    "# {1: 1, 2: 4, 3: 9, 4: 16, 5: 25, 6: 36, 7: 49, 8: 64, 9: 81, 10: 100}"
   ]
  },
  {
   "cell_type": "code",
   "execution_count": 1,
   "id": "7d6c644b",
   "metadata": {},
   "outputs": [
    {
     "name": "stdout",
     "output_type": "stream",
     "text": [
      "Introduce una frase: Estadistica descriptiva\n",
      "E ·\n",
      "S · · ·\n",
      "T —\n",
      "A · —\n",
      "D — · ·\n",
      "I · ·\n",
      "S · · ·\n",
      "T —\n",
      "I · ·\n",
      "C — · — ·\n",
      "A · —\n",
      "\n",
      "D — · ·\n",
      "E ·\n",
      "S · · ·\n",
      "C — · — ·\n",
      "R · — ·\n",
      "I · ·\n",
      "P · — — ·\n",
      "T —\n",
      "I · ·\n",
      "V · · · —\n",
      "A · —\n"
     ]
    }
   ],
   "source": [
    "dict_morse = {\"A\": \"· —\", \"B\": \"— · · ·\", \"C\": \"— · — ·\", \"CH\": \"— — — —\", \"D\": \"— · ·\", \"E\": \"·\", \"F\": \"· · — ·\", \"G\": \"— — ·\", \"H\": \"· · · ·\", \"I\": \"· ·\", \"J\": \"· — — —\", \"K\": \"— · —\", \"L\": \"· — · ·\", \"M\": \"— —\", \"N\": \"— ·\", \"Ñ\": \"— — · — —\", \"O\": \"— — —\", \"P\": \"· — — ·\", \"Q\": \"— — · —\", \"R\": \"· — ·\", \"S\": \"· · ·\", \"T\": \"—\", \"U\": \"· · —\", \"V\": \"· · · —\", \"W\": \"· — —\", \"X\": \"— · · —\", \"Y\": \"— · — —\", \"Z\": \"— — · ·\", \"0\": \"— — — — —\", \"1\": \"· — — — —\", \"2\": \"· · — — —\", \"3\": \"· · · — —\", \"4\": \"· · · · —\", \"5\": \"· · · · ·\", \"6\": \"— · · · ·\", \"7\": \"— — · · ·\", \"8\": \"— — — · ·\", \"9\": \"— — — — ·\", \".\": \"· — · — · —\", \",\": \"— — · · — —\", \"?\": \"· · — — · ·\", \"\\\"\": \"· — · · — ·\", \"/\": \"— · · — ·\"}\n",
    "for c in input(\"Introduce una frase: \").upper():\n",
    "    if c == \" \":\n",
    "        print(\"\")\n",
    "    if c in dict_morse:\n",
    "        print(c, dict_morse[c])\n",
    "'''\n",
    "E ·\n",
    "S · · ·\n",
    "T —\n",
    "A · —\n",
    "D — · ·\n",
    "I · ·\n",
    "S · · ·\n",
    "T —\n",
    "I · ·\n",
    "C — · — ·\n",
    "A · —\n",
    "\n",
    "D — · ·\n",
    "E ·\n",
    "S · · ·\n",
    "C — · — ·\n",
    "R · — ·\n",
    "I · ·\n",
    "P · — — ·\n",
    "T —\n",
    "I · ·\n",
    "V · · · —\n",
    "A · —\n",
    "'''"
   ]
  },
  {
   "cell_type": "code",
   "execution_count": 8,
   "id": "9113d7ce",
   "metadata": {},
   "outputs": [
    {
     "data": {
      "text/plain": [
       "['b', 'c']"
      ]
     },
     "execution_count": 8,
     "metadata": {},
     "output_type": "execute_result"
    }
   ],
   "source": [
    "def estaEnAmbosDiccionarios(d1, d2):\n",
    "    resultado = []\n",
    "    for clave in d1.keys():\n",
    "        if clave in d2:\n",
    "            resultado.append(clave)\n",
    "    return resultado\n",
    "estaEnAmbosDiccionarios({\"a\": 1, \"b\": 2, \"c\": 3, \"d\": 4, \"e\": 5}, {\"a\": 1, \"e\": 2, \"i\": 3, \"o\": 4, \"u\": 5}) # ['a', 'e']\n",
    "estaEnAmbosDiccionarios({\"a\": 1, \"b\": 2, \"c\": 3}, {\"c\": 1, \"b\": 2}) # ['b', 'c']"
   ]
  },
  {
   "cell_type": "code",
   "execution_count": 11,
   "id": "5fff9217",
   "metadata": {},
   "outputs": [
    {
     "data": {
      "text/plain": [
       "True"
      ]
     },
     "execution_count": 11,
     "metadata": {},
     "output_type": "execute_result"
    }
   ],
   "source": [
    "def esPrimo(n):\n",
    "    for x in range(2, n):\n",
    "        if n%x == 0:\n",
    "            return False\n",
    "    return True\n",
    "esPrimo(10) # False\n",
    "esPrimo(19) # True\n",
    "esPrimo(123456789) # False\n",
    "esPrimo(23456789) # True"
   ]
  },
  {
   "cell_type": "code",
   "execution_count": 10,
   "id": "d5f925c8",
   "metadata": {},
   "outputs": [
    {
     "name": "stdout",
     "output_type": "stream",
     "text": [
      "La Ruta Nos Aportó Otro Paso Natural. Curso De Estadística Descriptiva En R Y Python. "
     ]
    }
   ],
   "source": [
    "def primeraMayuscula(frase):\n",
    "    for palabra in frase.split(\" \"):\n",
    "        print(palabra.capitalize(), end=\" \")\n",
    "primeraMayuscula(\"La ruta nos aportó otro paso natural.\") # La Ruta Nos Aportó Otro Paso Natural.\n",
    "primeraMayuscula(\"Curso de estadística descriptiva en R y python.\") # Curso De Estadística Descriptiva En R Y Python."
   ]
  },
  {
   "cell_type": "code",
   "execution_count": 18,
   "id": "2986cf55",
   "metadata": {},
   "outputs": [
    {
     "data": {
      "text/plain": [
       "9"
      ]
     },
     "execution_count": 18,
     "metadata": {},
     "output_type": "execute_result"
    }
   ],
   "source": [
    "def mcd(n1, n2):\n",
    "    for x in range(n1,1,-1):\n",
    "        if n1%x == 0:\n",
    "            if n2%x ==0:\n",
    "                return x\n",
    "    return \"No tiene MCD\"\n",
    "mcd(48,60) # 12\n",
    "mcd(48,61) # 'No tiene MCD'\n",
    "mcd(123456789, 987654321) # 9"
   ]
  },
  {
   "cell_type": "code",
   "execution_count": 25,
   "id": "96eb086d",
   "metadata": {},
   "outputs": [
    {
     "name": "stdout",
     "output_type": "stream",
     "text": [
      "Od uxwd qrv dsruwr rwur sdvr qdwxudo.Fxuvr gh hvwdglvwlfd ghvfulswlyd hq U c scwkrq."
     ]
    }
   ],
   "source": [
    "# Las mayúsculas van del 65 al 90 y las minúsculas del 97 al 122. Hay 25 carácteres.\n",
    "def cifradoCesar(frase):\n",
    "    for letra in frase:\n",
    "        nascii = ord(letra)\n",
    "        if nascii >= 65 and nascii <= 90:\n",
    "            nascii -= 65\n",
    "            nascii = (nascii+3)%25\n",
    "            nascii += 65\n",
    "        elif nascii >= 97 and nascii <= 122:\n",
    "            nascii -= 97\n",
    "            nascii = (nascii+3)%25\n",
    "            nascii += 97\n",
    "        print(chr(nascii), end=\"\")\n",
    "cifradoCesar(\"La ruta nos aporto otro paso natural.\") # Od uxwd qrv dsruwr rwur sdvr qdwxudo.\n",
    "cifradoCesar(\"Curso de estadistica descriptiva en R y python.\") # Fxuvr gh hvwdglvwlfd ghvfulswlyd hq U c scwkrq.        "
   ]
  },
  {
   "cell_type": "code",
   "execution_count": 42,
   "id": "d4f973c9",
   "metadata": {},
   "outputs": [
    {
     "name": "stdout",
     "output_type": "stream",
     "text": [
      "Dame nombres de personas separados por coma: Lucía, Sofía, Martina, María, Paula, Julia, Emma, Valeria\n",
      "['Emma', 'Julia', 'Lucía', 'Martina', 'María', 'Paula', 'Sofía', 'Valeria']\n",
      "['Valeria', 'Sofía', 'Paula', 'María', 'Martina', 'Lucía', 'Julia', 'Emma']\n",
      "['Emma', 'Julia', 'Lucía', 'María', 'Paula', 'Sofía', 'Martina', 'Valeria']\n"
     ]
    }
   ],
   "source": [
    "nombres = input(\"Dame nombres de personas separados por coma: \").replace(\" \", \"\").split(\",\") # Lucía, Sofía, Martina, María, Paula, Julia, Emma, Valeria\n",
    "nombres.sort()\n",
    "print(nombres) # ['Emma', 'Julia', 'Lucía', 'Martina', 'María', 'Paula', 'Sofía', 'Valeria']\n",
    "nombres.reverse()\n",
    "print(nombres) # ['Valeria', 'Sofía', 'Paula', 'María', 'Martina', 'Lucía', 'Julia', 'Emma']\n",
    "nombres_tam = []\n",
    "for nombre in nombres:\n",
    "    pos = len(nombres_tam)\n",
    "    for i in range(len(nombres_tam)):\n",
    "        if len(nombre) <= len(nombres_tam[i]):\n",
    "            pos = i\n",
    "            break\n",
    "    nombres_tam.insert(pos,nombre)\n",
    "print(nombres_tam) # ['Emma', 'Julia', 'Lucía', 'María', 'Paula', 'Sofía', 'Martina', 'Valeria']"
   ]
  },
  {
   "cell_type": "code",
   "execution_count": null,
   "id": "de0c0424",
   "metadata": {},
   "outputs": [],
   "source": []
  }
 ],
 "metadata": {
  "kernelspec": {
   "display_name": "Python 3",
   "language": "python",
   "name": "python3"
  },
  "language_info": {
   "codemirror_mode": {
    "name": "ipython",
    "version": 3
   },
   "file_extension": ".py",
   "mimetype": "text/x-python",
   "name": "python",
   "nbconvert_exporter": "python",
   "pygments_lexer": "ipython3",
   "version": "3.8.10"
  }
 },
 "nbformat": 4,
 "nbformat_minor": 5
}
