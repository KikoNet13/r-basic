{
 "cells": [
  {
   "cell_type": "markdown",
   "id": "d7df3c3a",
   "metadata": {},
   "source": [
    "# Numpy"
   ]
  },
  {
   "cell_type": "code",
   "execution_count": 1,
   "id": "50f46c90",
   "metadata": {},
   "outputs": [],
   "source": [
    "import numpy as np"
   ]
  },
  {
   "cell_type": "code",
   "execution_count": 2,
   "id": "ad0b07e6",
   "metadata": {},
   "outputs": [],
   "source": [
    "L1 = [1,2,3,4,5,6,7,8] # Crear una lista"
   ]
  },
  {
   "cell_type": "code",
   "execution_count": 3,
   "id": "062768f6",
   "metadata": {},
   "outputs": [
    {
     "data": {
      "text/plain": [
       "array([1, 2, 3, 4, 5, 6, 7, 8])"
      ]
     },
     "execution_count": 3,
     "metadata": {},
     "output_type": "execute_result"
    }
   ],
   "source": [
    "x1 = np.array(L1)\n",
    "x1"
   ]
  },
  {
   "cell_type": "code",
   "execution_count": 4,
   "id": "d40b1233",
   "metadata": {},
   "outputs": [
    {
     "data": {
      "text/plain": [
       "array([1., 2., 3., 4., 5., 6., 7., 8.], dtype=float32)"
      ]
     },
     "execution_count": 4,
     "metadata": {},
     "output_type": "execute_result"
    }
   ],
   "source": [
    "x2 = np.array(L1, dtype='float32')\n",
    "x2"
   ]
  },
  {
   "cell_type": "markdown",
   "id": "b8d3d947",
   "metadata": {},
   "source": [
    "- bool_\n",
    "- int_, intc, intp, int8, int16, int32, int64\n",
    "- uint8, uint16, uint32, uint64\n",
    "- float_, float16, float32, float64 (+/-999.999999e99999)\n",
    "- complex_, complex64, complex128 (a+bi, a,b $\\in$ float_)"
   ]
  },
  {
   "cell_type": "code",
   "execution_count": 5,
   "id": "81d4927c",
   "metadata": {},
   "outputs": [
    {
     "data": {
      "text/plain": [
       "array([[0., 0., 0., 0.],\n",
       "       [0., 0., 0., 0.],\n",
       "       [0., 0., 0., 0.]])"
      ]
     },
     "execution_count": 5,
     "metadata": {},
     "output_type": "execute_result"
    }
   ],
   "source": [
    "np.zeros((3,4))"
   ]
  },
  {
   "cell_type": "code",
   "execution_count": 6,
   "id": "4ff38e08",
   "metadata": {},
   "outputs": [
    {
     "data": {
      "text/plain": [
       "array([[1., 1., 1.],\n",
       "       [1., 1., 1.],\n",
       "       [1., 1., 1.],\n",
       "       [1., 1., 1.]])"
      ]
     },
     "execution_count": 6,
     "metadata": {},
     "output_type": "execute_result"
    }
   ],
   "source": [
    "np.ones((4,3))"
   ]
  },
  {
   "cell_type": "code",
   "execution_count": 7,
   "id": "99fe2534",
   "metadata": {},
   "outputs": [
    {
     "data": {
      "text/plain": [
       "array([0, 1, 2, 3, 4, 5, 6, 7, 8, 9])"
      ]
     },
     "execution_count": 7,
     "metadata": {},
     "output_type": "execute_result"
    }
   ],
   "source": [
    "np.arange(10)"
   ]
  },
  {
   "cell_type": "code",
   "execution_count": 8,
   "id": "4a5bf41c",
   "metadata": {},
   "outputs": [
    {
     "data": {
      "text/plain": [
       "array([ 3.,  4.,  5.,  6.,  7.,  8.,  9., 10., 11.])"
      ]
     },
     "execution_count": 8,
     "metadata": {},
     "output_type": "execute_result"
    }
   ],
   "source": [
    "np.arange(3,12,dtype=np.float)"
   ]
  },
  {
   "cell_type": "code",
   "execution_count": 9,
   "id": "e8ec7803",
   "metadata": {},
   "outputs": [
    {
     "data": {
      "text/plain": [
       "array([4. , 4.1, 4.2, 4.3, 4.4, 4.5, 4.6, 4.7, 4.8, 4.9])"
      ]
     },
     "execution_count": 9,
     "metadata": {},
     "output_type": "execute_result"
    }
   ],
   "source": [
    "np.arange(4,5,0.1)"
   ]
  },
  {
   "cell_type": "code",
   "execution_count": 10,
   "id": "5ddac2d5",
   "metadata": {},
   "outputs": [
    {
     "data": {
      "text/plain": [
       "array([1.        , 1.54545455, 2.09090909, 2.63636364, 3.18181818,\n",
       "       3.72727273, 4.27272727, 4.81818182, 5.36363636, 5.90909091,\n",
       "       6.45454545, 7.        ])"
      ]
     },
     "execution_count": 10,
     "metadata": {},
     "output_type": "execute_result"
    }
   ],
   "source": [
    "np.linspace(1.,7.,12)"
   ]
  },
  {
   "cell_type": "code",
   "execution_count": 11,
   "id": "1c722733",
   "metadata": {},
   "outputs": [
    {
     "data": {
      "text/plain": [
       "array([[1., 0., 0., 0., 0.],\n",
       "       [0., 1., 0., 0., 0.],\n",
       "       [0., 0., 1., 0., 0.],\n",
       "       [0., 0., 0., 1., 0.],\n",
       "       [0., 0., 0., 0., 1.]])"
      ]
     },
     "execution_count": 11,
     "metadata": {},
     "output_type": "execute_result"
    }
   ],
   "source": [
    "np.eye(5)"
   ]
  },
  {
   "cell_type": "code",
   "execution_count": 16,
   "id": "fd9ca350",
   "metadata": {},
   "outputs": [
    {
     "data": {
      "text/plain": [
       "array([ 0,  1,  2,  3,  4,  5,  6,  7,  8,  9, 10, 11, 12, 13, 14, 15, 16,\n",
       "       17, 18, 19, 20, 21, 22, 23])"
      ]
     },
     "execution_count": 16,
     "metadata": {},
     "output_type": "execute_result"
    }
   ],
   "source": [
    "x = np.arange(24)\n",
    "x"
   ]
  },
  {
   "cell_type": "code",
   "execution_count": 17,
   "id": "3e5c58ab",
   "metadata": {},
   "outputs": [
    {
     "data": {
      "text/plain": [
       "array([[ 0,  1,  2,  3],\n",
       "       [ 4,  5,  6,  7],\n",
       "       [ 8,  9, 10, 11],\n",
       "       [12, 13, 14, 15],\n",
       "       [16, 17, 18, 19],\n",
       "       [20, 21, 22, 23]])"
      ]
     },
     "execution_count": 17,
     "metadata": {},
     "output_type": "execute_result"
    }
   ],
   "source": [
    "x.reshape((6,4))"
   ]
  },
  {
   "cell_type": "code",
   "execution_count": 18,
   "id": "62764d04",
   "metadata": {},
   "outputs": [
    {
     "data": {
      "text/plain": [
       "array([[ 0,  1,  2,  3,  4,  5,  6,  7],\n",
       "       [ 8,  9, 10, 11, 12, 13, 14, 15],\n",
       "       [16, 17, 18, 19, 20, 21, 22, 23]])"
      ]
     },
     "execution_count": 18,
     "metadata": {},
     "output_type": "execute_result"
    }
   ],
   "source": [
    "x.reshape((3,8))"
   ]
  },
  {
   "cell_type": "code",
   "execution_count": 19,
   "id": "34e3b046",
   "metadata": {},
   "outputs": [
    {
     "data": {
      "text/plain": [
       "array([[1, 2, 3, 4],\n",
       "       [5, 6, 7, 8]])"
      ]
     },
     "execution_count": 19,
     "metadata": {},
     "output_type": "execute_result"
    }
   ],
   "source": [
    "x = np.array([[1,2,3,4],[5,6,7,8]])\n",
    "x"
   ]
  },
  {
   "cell_type": "code",
   "execution_count": 20,
   "id": "584a8160",
   "metadata": {},
   "outputs": [
    {
     "data": {
      "text/plain": [
       "array([1, 2, 3, 4, 5, 6, 7, 8])"
      ]
     },
     "execution_count": 20,
     "metadata": {},
     "output_type": "execute_result"
    }
   ],
   "source": [
    "np.ravel(x)"
   ]
  },
  {
   "cell_type": "code",
   "execution_count": 21,
   "id": "4886cb92",
   "metadata": {},
   "outputs": [
    {
     "data": {
      "text/plain": [
       "array([1, 2, 3, 4, 5, 6, 7, 8])"
      ]
     },
     "execution_count": 21,
     "metadata": {},
     "output_type": "execute_result"
    }
   ],
   "source": [
    "x.flatten()"
   ]
  },
  {
   "cell_type": "code",
   "execution_count": 22,
   "id": "232fce15",
   "metadata": {},
   "outputs": [
    {
     "data": {
      "text/plain": [
       "array([[1, 5],\n",
       "       [2, 6],\n",
       "       [3, 7],\n",
       "       [4, 8]])"
      ]
     },
     "execution_count": 22,
     "metadata": {},
     "output_type": "execute_result"
    }
   ],
   "source": [
    "np.transpose(x)"
   ]
  },
  {
   "cell_type": "code",
   "execution_count": 23,
   "id": "0c171b96",
   "metadata": {},
   "outputs": [
    {
     "data": {
      "text/plain": [
       "array([[1, 2, 3, 4],\n",
       "       [5, 6, 7, 8]])"
      ]
     },
     "execution_count": 23,
     "metadata": {},
     "output_type": "execute_result"
    }
   ],
   "source": [
    "x"
   ]
  },
  {
   "cell_type": "code",
   "execution_count": 24,
   "id": "edfb57a2",
   "metadata": {},
   "outputs": [
    {
     "data": {
      "text/plain": [
       "array([[1, 2, 3],\n",
       "       [4, 5, 6],\n",
       "       [7, 8, 1],\n",
       "       [2, 3, 4],\n",
       "       [5, 6, 7]])"
      ]
     },
     "execution_count": 24,
     "metadata": {},
     "output_type": "execute_result"
    }
   ],
   "source": [
    "np.resize(x, (5,3))"
   ]
  },
  {
   "cell_type": "code",
   "execution_count": 29,
   "id": "29f06987",
   "metadata": {},
   "outputs": [
    {
     "data": {
      "text/plain": [
       "array([  5,   6,   7,   8,   9,  10,  11,  12,  13,  14,  15,  16,  17,\n",
       "        18,  19,  20,  21,  22,  23,  24,  25,  26,  27,  28,  29,  30,\n",
       "        31,  32,  33,  34,  35,  36,  37,  38,  39,  40,  41,  42,  43,\n",
       "        44,  45,  46,  47,  48,  49,  50,  51,  52,  53,  54,  55,  56,\n",
       "        57,  58,  59,  60,  61,  62,  63,  64,  65,  66,  67,  68,  69,\n",
       "        70,  71,  72,  73,  74,  75,  76,  77,  78,  79,  80,  81,  82,\n",
       "        83,  84,  85,  86,  87,  88,  89,  90,  91,  92,  93,  94,  95,\n",
       "        96,  97,  98,  99, 100, 101, 102, 103, 104, 105, 106, 107, 108,\n",
       "       109, 110, 111, 112, 113, 114, 115, 116, 117, 118, 119])"
      ]
     },
     "execution_count": 29,
     "metadata": {},
     "output_type": "execute_result"
    }
   ],
   "source": [
    "np1 = np.arange(5,120)\n",
    "np1"
   ]
  },
  {
   "cell_type": "code",
   "execution_count": 28,
   "id": "b856bb33",
   "metadata": {},
   "outputs": [
    {
     "data": {
      "text/plain": [
       "array([[ 0,  1,  2,  3],\n",
       "       [ 4,  5,  6,  7],\n",
       "       [ 8,  9, 10, 11],\n",
       "       [12, 13, 14, 15]])"
      ]
     },
     "execution_count": 28,
     "metadata": {},
     "output_type": "execute_result"
    }
   ],
   "source": [
    "np2 = np.arange(16).reshape((4,4))\n",
    "np2"
   ]
  },
  {
   "cell_type": "code",
   "execution_count": 30,
   "id": "8f5a3595",
   "metadata": {},
   "outputs": [
    {
     "data": {
      "text/plain": [
       "array([[1., 0., 0., 0., 0., 0., 0.],\n",
       "       [0., 1., 0., 0., 0., 0., 0.],\n",
       "       [0., 0., 1., 0., 0., 0., 0.],\n",
       "       [0., 0., 0., 1., 0., 0., 0.],\n",
       "       [0., 0., 0., 0., 1., 0., 0.],\n",
       "       [0., 0., 0., 0., 0., 1., 0.],\n",
       "       [0., 0., 0., 0., 0., 0., 1.]])"
      ]
     },
     "execution_count": 30,
     "metadata": {},
     "output_type": "execute_result"
    }
   ],
   "source": [
    "np3 = np.eye(7)\n",
    "np3"
   ]
  },
  {
   "cell_type": "code",
   "execution_count": 31,
   "id": "07954b59",
   "metadata": {},
   "outputs": [
    {
     "data": {
      "text/plain": [
       "array([[ 0,  1,  2,  3],\n",
       "       [ 4,  5,  6,  7],\n",
       "       [ 8,  9, 10, 11],\n",
       "       [12, 13, 14, 15],\n",
       "       [16, 17, 18, 19]])"
      ]
     },
     "execution_count": 31,
     "metadata": {},
     "output_type": "execute_result"
    }
   ],
   "source": [
    "np4 = np.arange(20).reshape((5,4))\n",
    "np4"
   ]
  },
  {
   "cell_type": "code",
   "execution_count": 35,
   "id": "6c7d5bb2",
   "metadata": {},
   "outputs": [
    {
     "data": {
      "text/plain": [
       "array([0.        , 0.26315789, 0.52631579, 0.78947368, 1.05263158,\n",
       "       1.31578947, 1.57894737, 1.84210526, 2.10526316, 2.36842105,\n",
       "       2.63157895, 2.89473684, 3.15789474, 3.42105263, 3.68421053,\n",
       "       3.94736842, 4.21052632, 4.47368421, 4.73684211, 5.        ])"
      ]
     },
     "execution_count": 35,
     "metadata": {},
     "output_type": "execute_result"
    }
   ],
   "source": [
    "np5 = np.linspace(0,5,20)\n",
    "np5"
   ]
  },
  {
   "cell_type": "markdown",
   "id": "7f14e531",
   "metadata": {},
   "source": [
    "# Propiedades de los arrays"
   ]
  },
  {
   "cell_type": "code",
   "execution_count": 39,
   "id": "b5c80e41",
   "metadata": {},
   "outputs": [
    {
     "data": {
      "text/plain": [
       "array([[ 0,  1,  2,  3],\n",
       "       [ 4,  5,  6,  7],\n",
       "       [ 8,  9, 10, 11]])"
      ]
     },
     "execution_count": 39,
     "metadata": {},
     "output_type": "execute_result"
    }
   ],
   "source": [
    "x = np.arange(12)\n",
    "x = x.reshape((3,4))\n",
    "x"
   ]
  },
  {
   "cell_type": "code",
   "execution_count": 40,
   "id": "fd6ba72b",
   "metadata": {},
   "outputs": [
    {
     "data": {
      "text/plain": [
       "2"
      ]
     },
     "execution_count": 40,
     "metadata": {},
     "output_type": "execute_result"
    }
   ],
   "source": [
    "x.ndim"
   ]
  },
  {
   "cell_type": "code",
   "execution_count": 41,
   "id": "1b4aef45",
   "metadata": {},
   "outputs": [
    {
     "data": {
      "text/plain": [
       "(3, 4)"
      ]
     },
     "execution_count": 41,
     "metadata": {},
     "output_type": "execute_result"
    }
   ],
   "source": [
    "x.shape"
   ]
  },
  {
   "cell_type": "code",
   "execution_count": 42,
   "id": "dd4a06ae",
   "metadata": {},
   "outputs": [
    {
     "data": {
      "text/plain": [
       "12"
      ]
     },
     "execution_count": 42,
     "metadata": {},
     "output_type": "execute_result"
    }
   ],
   "source": [
    "x.size"
   ]
  },
  {
   "cell_type": "code",
   "execution_count": 43,
   "id": "b2aa283b",
   "metadata": {},
   "outputs": [
    {
     "data": {
      "text/plain": [
       "dtype('int32')"
      ]
     },
     "execution_count": 43,
     "metadata": {},
     "output_type": "execute_result"
    }
   ],
   "source": [
    "x.dtype"
   ]
  },
  {
   "cell_type": "code",
   "execution_count": 44,
   "id": "845848d2",
   "metadata": {},
   "outputs": [
    {
     "data": {
      "text/plain": [
       "4"
      ]
     },
     "execution_count": 44,
     "metadata": {},
     "output_type": "execute_result"
    }
   ],
   "source": [
    "x.itemsize"
   ]
  },
  {
   "cell_type": "code",
   "execution_count": 45,
   "id": "08cacf74",
   "metadata": {},
   "outputs": [
    {
     "data": {
      "text/plain": [
       "<memory at 0x000001C3635BA860>"
      ]
     },
     "execution_count": 45,
     "metadata": {},
     "output_type": "execute_result"
    }
   ],
   "source": [
    "x.data"
   ]
  },
  {
   "cell_type": "code",
   "execution_count": 46,
   "id": "173669f2",
   "metadata": {},
   "outputs": [
    {
     "data": {
      "text/plain": [
       "array([ 8,  9, 10, 11])"
      ]
     },
     "execution_count": 46,
     "metadata": {},
     "output_type": "execute_result"
    }
   ],
   "source": [
    "x[2]"
   ]
  },
  {
   "cell_type": "code",
   "execution_count": 47,
   "id": "9a150a53",
   "metadata": {},
   "outputs": [
    {
     "data": {
      "text/plain": [
       "9"
      ]
     },
     "execution_count": 47,
     "metadata": {},
     "output_type": "execute_result"
    }
   ],
   "source": [
    "x[2,1]"
   ]
  },
  {
   "cell_type": "code",
   "execution_count": 49,
   "id": "1ac0d962",
   "metadata": {},
   "outputs": [
    {
     "data": {
      "text/plain": [
       "array([[ 0,  1,  2],\n",
       "       [ 3,  4,  5],\n",
       "       [ 6,  7,  8],\n",
       "       [ 9, 10, 11]])"
      ]
     },
     "execution_count": 49,
     "metadata": {},
     "output_type": "execute_result"
    }
   ],
   "source": [
    "x.shape = (4,3)\n",
    "x"
   ]
  },
  {
   "cell_type": "code",
   "execution_count": 50,
   "id": "80fb5830",
   "metadata": {},
   "outputs": [
    {
     "data": {
      "text/plain": [
       "array([[3, 4],\n",
       "       [6, 7]])"
      ]
     },
     "execution_count": 50,
     "metadata": {},
     "output_type": "execute_result"
    }
   ],
   "source": [
    "x[1:3, 0:2]"
   ]
  },
  {
   "cell_type": "code",
   "execution_count": 51,
   "id": "eb5cdc80",
   "metadata": {},
   "outputs": [
    {
     "data": {
      "text/plain": [
       "array([ 0,  1,  2,  3,  4,  5,  6,  7,  8,  9, 10, 11])"
      ]
     },
     "execution_count": 51,
     "metadata": {},
     "output_type": "execute_result"
    }
   ],
   "source": [
    "y = np.arange(12)\n",
    "y"
   ]
  },
  {
   "cell_type": "code",
   "execution_count": 52,
   "id": "3aec4017",
   "metadata": {},
   "outputs": [
    {
     "data": {
      "text/plain": [
       "array([3, 4, 5, 6, 7])"
      ]
     },
     "execution_count": 52,
     "metadata": {},
     "output_type": "execute_result"
    }
   ],
   "source": [
    "y[3:8]"
   ]
  },
  {
   "cell_type": "code",
   "execution_count": 53,
   "id": "7a8bbf0f",
   "metadata": {},
   "outputs": [
    {
     "data": {
      "text/plain": [
       "array([1, 3, 5])"
      ]
     },
     "execution_count": 53,
     "metadata": {},
     "output_type": "execute_result"
    }
   ],
   "source": [
    "y[1:7:2]"
   ]
  },
  {
   "cell_type": "code",
   "execution_count": 55,
   "id": "290b700a",
   "metadata": {},
   "outputs": [
    {
     "data": {
      "text/plain": [
       "array([10,  9,  8,  7])"
      ]
     },
     "execution_count": 55,
     "metadata": {},
     "output_type": "execute_result"
    }
   ],
   "source": [
    "z = np.arange(10,6,-1)\n",
    "z"
   ]
  },
  {
   "cell_type": "code",
   "execution_count": 56,
   "id": "c7182e96",
   "metadata": {},
   "outputs": [
    {
     "data": {
      "text/plain": [
       "array([10,  9,  8,  7])"
      ]
     },
     "execution_count": 56,
     "metadata": {},
     "output_type": "execute_result"
    }
   ],
   "source": [
    "y[z]"
   ]
  },
  {
   "cell_type": "code",
   "execution_count": 57,
   "id": "009a7c1f",
   "metadata": {},
   "outputs": [
    {
     "data": {
      "text/plain": [
       "array([ 0,  1,  2,  3,  4,  5,  6,  7,  8,  9, 10, 11, 12, 13, 14, 15, 16,\n",
       "       17, 18, 19, 20, 21, 22, 23, 24, 25, 26, 27, 28, 29, 30, 31, 32, 33,\n",
       "       34, 35, 36, 37, 38, 39, 40, 41, 42, 43, 44, 45, 46, 47, 48, 49])"
      ]
     },
     "execution_count": 57,
     "metadata": {},
     "output_type": "execute_result"
    }
   ],
   "source": [
    "x = np.arange(50)\n",
    "x"
   ]
  },
  {
   "cell_type": "code",
   "execution_count": 58,
   "id": "67ced65c",
   "metadata": {},
   "outputs": [
    {
     "data": {
      "text/plain": [
       "array([31, 32, 33, 34, 35, 36, 37, 38, 39, 40, 41, 42, 43, 44, 45, 46, 47,\n",
       "       48, 49])"
      ]
     },
     "execution_count": 58,
     "metadata": {},
     "output_type": "execute_result"
    }
   ],
   "source": [
    "x[x>30]"
   ]
  },
  {
   "cell_type": "code",
   "execution_count": 60,
   "id": "06d7a20f",
   "metadata": {},
   "outputs": [
    {
     "data": {
      "text/plain": [
       "array([ True,  True,  True,  True,  True,  True,  True,  True,  True,\n",
       "        True,  True,  True,  True,  True,  True,  True,  True,  True,\n",
       "        True,  True,  True,  True,  True,  True,  True, False, False,\n",
       "       False, False, False, False, False, False, False, False, False,\n",
       "       False, False, False, False, False, False, False, False, False,\n",
       "       False, False, False, False, False])"
      ]
     },
     "execution_count": 60,
     "metadata": {},
     "output_type": "execute_result"
    }
   ],
   "source": [
    "cond = x < 25\n",
    "cond"
   ]
  },
  {
   "cell_type": "code",
   "execution_count": 61,
   "id": "12648ab9",
   "metadata": {},
   "outputs": [
    {
     "data": {
      "text/plain": [
       "array([ 0,  1,  2,  3,  4,  5,  6,  7,  8,  9, 10, 11, 12, 13, 14, 15, 16,\n",
       "       17, 18, 19, 20, 21, 22, 23, 24])"
      ]
     },
     "execution_count": 61,
     "metadata": {},
     "output_type": "execute_result"
    }
   ],
   "source": [
    "x[cond]"
   ]
  },
  {
   "cell_type": "code",
   "execution_count": 63,
   "id": "9a924272",
   "metadata": {},
   "outputs": [
    {
     "data": {
      "text/plain": [
       "array([ 0,  1,  2,  3,  4,  5,  6,  7,  8,  9, 10, 11,  1,  1,  1,  1,  1,\n",
       "        1,  1,  1,  1,  1,  1,  1, 24, 25, 26, 27, 28, 29, 30, 31, 32, 33,\n",
       "       34, 35, 36, 37, 38, 39, 40, 41, 42, 43, 44, 45, 46, 47, 48, 49])"
      ]
     },
     "execution_count": 63,
     "metadata": {},
     "output_type": "execute_result"
    }
   ],
   "source": [
    "x[12:24] = 1\n",
    "x"
   ]
  },
  {
   "cell_type": "code",
   "execution_count": 64,
   "id": "e5228de9",
   "metadata": {},
   "outputs": [
    {
     "data": {
      "text/plain": [
       "array([ 0,  1,  2,  3,  4,  5,  6,  7,  8,  9, 10, 11,  1,  6,  9, 12,  1,\n",
       "        1,  1,  1,  1,  1,  1,  1, 24, 25, 26, 27, 28, 29, 30, 31, 32, 33,\n",
       "       34, 35, 36, 37, 38, 39, 40, 41, 42, 43, 44, 45, 46, 47, 48, 49])"
      ]
     },
     "execution_count": 64,
     "metadata": {},
     "output_type": "execute_result"
    }
   ],
   "source": [
    "x[13:16] = [6,9,12]\n",
    "x"
   ]
  },
  {
   "cell_type": "code",
   "execution_count": 65,
   "id": "deef0d0c",
   "metadata": {},
   "outputs": [
    {
     "data": {
      "text/plain": [
       "dtype('int32')"
      ]
     },
     "execution_count": 65,
     "metadata": {},
     "output_type": "execute_result"
    }
   ],
   "source": [
    "x.dtype"
   ]
  },
  {
   "cell_type": "code",
   "execution_count": 66,
   "id": "2d526890",
   "metadata": {},
   "outputs": [
    {
     "data": {
      "text/plain": [
       "array([ 0,  1,  2,  3,  4,  3,  6,  7,  8,  9, 10, 11,  1,  6,  9, 12,  1,\n",
       "        1,  1,  1,  1,  1,  1,  1, 24, 25, 26, 27, 28, 29, 30, 31, 32, 33,\n",
       "       34, 35, 36, 37, 38, 39, 40, 41, 42, 43, 44, 45, 46, 47, 48, 49])"
      ]
     },
     "execution_count": 66,
     "metadata": {},
     "output_type": "execute_result"
    }
   ],
   "source": [
    "x[5] = 3.1415\n",
    "x"
   ]
  },
  {
   "cell_type": "code",
   "execution_count": 67,
   "id": "33d75f77",
   "metadata": {},
   "outputs": [
    {
     "ename": "TypeError",
     "evalue": "can't convert complex to int",
     "output_type": "error",
     "traceback": [
      "\u001b[1;31m---------------------------------------------------------------------------\u001b[0m",
      "\u001b[1;31mTypeError\u001b[0m                                 Traceback (most recent call last)",
      "\u001b[1;32m<ipython-input-67-05168595eb79>\u001b[0m in \u001b[0;36m<module>\u001b[1;34m\u001b[0m\n\u001b[1;32m----> 1\u001b[1;33m \u001b[0mx\u001b[0m\u001b[1;33m[\u001b[0m\u001b[1;36m8\u001b[0m\u001b[1;33m]\u001b[0m \u001b[1;33m=\u001b[0m \u001b[1;36m1.2j\u001b[0m\u001b[1;33m\u001b[0m\u001b[1;33m\u001b[0m\u001b[0m\n\u001b[0m",
      "\u001b[1;31mTypeError\u001b[0m: can't convert complex to int"
     ]
    }
   ],
   "source": [
    "x[8] = 1.2j"
   ]
  },
  {
   "cell_type": "markdown",
   "id": "2d5015f1",
   "metadata": {},
   "source": [
    "# Copias y vistas de arrays"
   ]
  },
  {
   "cell_type": "code",
   "execution_count": 69,
   "id": "eaa13454",
   "metadata": {},
   "outputs": [],
   "source": [
    "x = np.arange(10)"
   ]
  },
  {
   "cell_type": "code",
   "execution_count": 70,
   "id": "70df0c94",
   "metadata": {},
   "outputs": [],
   "source": [
    "y = x"
   ]
  },
  {
   "cell_type": "code",
   "execution_count": 71,
   "id": "e1f70e4e",
   "metadata": {},
   "outputs": [
    {
     "data": {
      "text/plain": [
       "array([[0, 1, 2, 3, 4],\n",
       "       [5, 6, 7, 8, 9]])"
      ]
     },
     "execution_count": 71,
     "metadata": {},
     "output_type": "execute_result"
    }
   ],
   "source": [
    "y.shape = (2,5)\n",
    "y"
   ]
  },
  {
   "cell_type": "code",
   "execution_count": 72,
   "id": "19bcefde",
   "metadata": {},
   "outputs": [
    {
     "data": {
      "text/plain": [
       "array([[0, 1, 2, 3, 4],\n",
       "       [5, 6, 7, 8, 9]])"
      ]
     },
     "execution_count": 72,
     "metadata": {},
     "output_type": "execute_result"
    }
   ],
   "source": [
    "x"
   ]
  },
  {
   "cell_type": "code",
   "execution_count": 74,
   "id": "beb55645",
   "metadata": {},
   "outputs": [
    {
     "data": {
      "text/plain": [
       "array([[0, 1, 2, 3, 4],\n",
       "       [5, 6, 7, 8, 9]])"
      ]
     },
     "execution_count": 74,
     "metadata": {},
     "output_type": "execute_result"
    }
   ],
   "source": [
    "z = x.copy()\n",
    "z"
   ]
  },
  {
   "cell_type": "code",
   "execution_count": 76,
   "id": "18531e31",
   "metadata": {},
   "outputs": [
    {
     "data": {
      "text/plain": [
       "False"
      ]
     },
     "execution_count": 76,
     "metadata": {},
     "output_type": "execute_result"
    }
   ],
   "source": [
    "z is x"
   ]
  },
  {
   "cell_type": "code",
   "execution_count": 77,
   "id": "762a8b47",
   "metadata": {},
   "outputs": [
    {
     "data": {
      "text/plain": [
       "True"
      ]
     },
     "execution_count": 77,
     "metadata": {},
     "output_type": "execute_result"
    }
   ],
   "source": [
    "y is x"
   ]
  },
  {
   "cell_type": "code",
   "execution_count": 78,
   "id": "c8911399",
   "metadata": {},
   "outputs": [
    {
     "data": {
      "text/plain": [
       "array([[0, 1, 2, 3, 4],\n",
       "       [5, 6, 7, 8, 9]])"
      ]
     },
     "execution_count": 78,
     "metadata": {},
     "output_type": "execute_result"
    }
   ],
   "source": [
    "x"
   ]
  },
  {
   "cell_type": "code",
   "execution_count": 79,
   "id": "31fa548d",
   "metadata": {},
   "outputs": [
    {
     "data": {
      "text/plain": [
       "array([[0, 1, 2, 3, 4],\n",
       "       [5, 6, 7, 8, 9]])"
      ]
     },
     "execution_count": 79,
     "metadata": {},
     "output_type": "execute_result"
    }
   ],
   "source": [
    "t = x.view()\n",
    "t"
   ]
  },
  {
   "cell_type": "code",
   "execution_count": 80,
   "id": "f8453ebe",
   "metadata": {},
   "outputs": [
    {
     "data": {
      "text/plain": [
       "array([[0, 1],\n",
       "       [2, 3],\n",
       "       [4, 5],\n",
       "       [6, 7],\n",
       "       [8, 9]])"
      ]
     },
     "execution_count": 80,
     "metadata": {},
     "output_type": "execute_result"
    }
   ],
   "source": [
    "t.shape = (5,2)\n",
    "t"
   ]
  },
  {
   "cell_type": "code",
   "execution_count": 81,
   "id": "9fe854c6",
   "metadata": {},
   "outputs": [
    {
     "data": {
      "text/plain": [
       "array([[0, 1, 2, 3, 4],\n",
       "       [5, 6, 7, 8, 9]])"
      ]
     },
     "execution_count": 81,
     "metadata": {},
     "output_type": "execute_result"
    }
   ],
   "source": [
    "x"
   ]
  },
  {
   "cell_type": "code",
   "execution_count": 82,
   "id": "141ae03a",
   "metadata": {},
   "outputs": [
    {
     "data": {
      "text/plain": [
       "array([[1, 2],\n",
       "       [6, 7]])"
      ]
     },
     "execution_count": 82,
     "metadata": {},
     "output_type": "execute_result"
    }
   ],
   "source": [
    "s = x[0:2, 1:3]\n",
    "s"
   ]
  },
  {
   "cell_type": "code",
   "execution_count": 83,
   "id": "feb41eb1",
   "metadata": {},
   "outputs": [
    {
     "data": {
      "text/plain": [
       "array([[0, 1, 2, 3, 4],\n",
       "       [5, 6, 7, 8, 9]])"
      ]
     },
     "execution_count": 83,
     "metadata": {},
     "output_type": "execute_result"
    }
   ],
   "source": [
    "z"
   ]
  },
  {
   "cell_type": "code",
   "execution_count": 84,
   "id": "68fa638a",
   "metadata": {},
   "outputs": [
    {
     "data": {
      "text/plain": [
       "array([[0, 1, 2, 3, 4],\n",
       "       [5, 6, 7, 8, 9]])"
      ]
     },
     "execution_count": 84,
     "metadata": {},
     "output_type": "execute_result"
    }
   ],
   "source": [
    "x"
   ]
  },
  {
   "cell_type": "code",
   "execution_count": 85,
   "id": "78c2ddd8",
   "metadata": {},
   "outputs": [
    {
     "data": {
      "text/plain": [
       "array([[1, 1, 2, 3, 4],\n",
       "       [5, 6, 7, 8, 9]])"
      ]
     },
     "execution_count": 85,
     "metadata": {},
     "output_type": "execute_result"
    }
   ],
   "source": [
    "z[0,0] = 1\n",
    "z"
   ]
  },
  {
   "cell_type": "code",
   "execution_count": 86,
   "id": "87095c80",
   "metadata": {},
   "outputs": [
    {
     "data": {
      "text/plain": [
       "array([[0, 1, 2, 3, 4],\n",
       "       [5, 6, 7, 8, 9]])"
      ]
     },
     "execution_count": 86,
     "metadata": {},
     "output_type": "execute_result"
    }
   ],
   "source": [
    "x"
   ]
  },
  {
   "cell_type": "code",
   "execution_count": 87,
   "id": "a77ab23c",
   "metadata": {},
   "outputs": [
    {
     "data": {
      "text/plain": [
       "array([[1, 1],\n",
       "       [2, 3],\n",
       "       [4, 5],\n",
       "       [6, 7],\n",
       "       [8, 9]])"
      ]
     },
     "execution_count": 87,
     "metadata": {},
     "output_type": "execute_result"
    }
   ],
   "source": [
    "t[0,0] = 1\n",
    "t"
   ]
  },
  {
   "cell_type": "code",
   "execution_count": 88,
   "id": "396a68de",
   "metadata": {},
   "outputs": [
    {
     "data": {
      "text/plain": [
       "array([[1, 1, 2, 3, 4],\n",
       "       [5, 6, 7, 8, 9]])"
      ]
     },
     "execution_count": 88,
     "metadata": {},
     "output_type": "execute_result"
    }
   ],
   "source": [
    "x"
   ]
  },
  {
   "cell_type": "markdown",
   "id": "d6fd2690",
   "metadata": {},
   "source": [
    "# Funciones universales (ufunc)\n",
    "- Unarias: sqrt, sin, cos, **2\n",
    "- Binarias: maximum, minimum"
   ]
  },
  {
   "cell_type": "code",
   "execution_count": 89,
   "id": "1a01415f",
   "metadata": {},
   "outputs": [
    {
     "data": {
      "text/plain": [
       "array([0, 1, 2, 3, 4, 5, 6, 7, 8, 9])"
      ]
     },
     "execution_count": 89,
     "metadata": {},
     "output_type": "execute_result"
    }
   ],
   "source": [
    "x = np.arange(10)\n",
    "x"
   ]
  },
  {
   "cell_type": "code",
   "execution_count": 90,
   "id": "b04d1cca",
   "metadata": {},
   "outputs": [
    {
     "data": {
      "text/plain": [
       "array([ 3,  4,  5,  6,  7,  8,  9, 10, 11, 12])"
      ]
     },
     "execution_count": 90,
     "metadata": {},
     "output_type": "execute_result"
    }
   ],
   "source": [
    "x+3"
   ]
  },
  {
   "cell_type": "code",
   "execution_count": 91,
   "id": "4b1c05bf",
   "metadata": {},
   "outputs": [
    {
     "data": {
      "text/plain": [
       "array([-3, -2, -1,  0,  1,  2,  3,  4,  5,  6])"
      ]
     },
     "execution_count": 91,
     "metadata": {},
     "output_type": "execute_result"
    }
   ],
   "source": [
    "x-3"
   ]
  },
  {
   "cell_type": "code",
   "execution_count": 92,
   "id": "5f5871f5",
   "metadata": {},
   "outputs": [
    {
     "data": {
      "text/plain": [
       "array([ 0,  3,  6,  9, 12, 15, 18, 21, 24, 27])"
      ]
     },
     "execution_count": 92,
     "metadata": {},
     "output_type": "execute_result"
    }
   ],
   "source": [
    "x*3"
   ]
  },
  {
   "cell_type": "code",
   "execution_count": 93,
   "id": "26fff22a",
   "metadata": {},
   "outputs": [
    {
     "data": {
      "text/plain": [
       "array([0.        , 0.33333333, 0.66666667, 1.        , 1.33333333,\n",
       "       1.66666667, 2.        , 2.33333333, 2.66666667, 3.        ])"
      ]
     },
     "execution_count": 93,
     "metadata": {},
     "output_type": "execute_result"
    }
   ],
   "source": [
    "x/3"
   ]
  },
  {
   "cell_type": "code",
   "execution_count": 94,
   "id": "3b8cb094",
   "metadata": {},
   "outputs": [
    {
     "data": {
      "text/plain": [
       "array([0.        , 0.01750191, 0.03500382, 0.05250573, 0.07000764,\n",
       "       0.08750954, 0.10501145, 0.12251336, 0.14001527, 0.15751718,\n",
       "       0.17501909, 0.192521  , 0.21002291, 0.22752482, 0.24502673,\n",
       "       0.26252863, 0.28003054, 0.29753245, 0.31503436, 0.33253627,\n",
       "       0.35003818, 0.36754009, 0.385042  , 0.40254391, 0.42004581,\n",
       "       0.43754772, 0.45504963, 0.47255154, 0.49005345, 0.50755536,\n",
       "       0.52505727, 0.54255918, 0.56006109, 0.57756299, 0.5950649 ,\n",
       "       0.61256681, 0.63006872, 0.64757063, 0.66507254, 0.68257445,\n",
       "       0.70007636, 0.71757827, 0.73508018, 0.75258208, 0.77008399,\n",
       "       0.7875859 , 0.80508781, 0.82258972, 0.84009163, 0.85759354,\n",
       "       0.87509545, 0.89259736, 0.91009926, 0.92760117, 0.94510308,\n",
       "       0.96260499, 0.9801069 , 0.99760881, 1.01511072, 1.03261263,\n",
       "       1.05011454, 1.06761644, 1.08511835, 1.10262026, 1.12012217,\n",
       "       1.13762408, 1.15512599, 1.1726279 , 1.19012981, 1.20763172,\n",
       "       1.22513363, 1.24263553, 1.26013744, 1.27763935, 1.29514126,\n",
       "       1.31264317, 1.33014508, 1.34764699, 1.3651489 , 1.38265081,\n",
       "       1.40015271, 1.41765462, 1.43515653, 1.45265844, 1.47016035,\n",
       "       1.48766226, 1.50516417, 1.52266608, 1.54016799, 1.5576699 ,\n",
       "       1.5751718 , 1.59267371, 1.61017562, 1.62767753, 1.64517944,\n",
       "       1.66268135, 1.68018326, 1.69768517, 1.71518708, 1.73268898,\n",
       "       1.75019089, 1.7676928 , 1.78519471, 1.80269662, 1.82019853,\n",
       "       1.83770044, 1.85520235, 1.87270426, 1.89020616, 1.90770807,\n",
       "       1.92520998, 1.94271189, 1.9602138 , 1.97771571, 1.99521762,\n",
       "       2.01271953, 2.03022144, 2.04772335, 2.06522525, 2.08272716,\n",
       "       2.10022907, 2.11773098, 2.13523289, 2.1527348 , 2.17023671,\n",
       "       2.18773862, 2.20524053, 2.22274243, 2.24024434, 2.25774625,\n",
       "       2.27524816, 2.29275007, 2.31025198, 2.32775389, 2.3452558 ,\n",
       "       2.36275771, 2.38025961, 2.39776152, 2.41526343, 2.43276534,\n",
       "       2.45026725, 2.46776916, 2.48527107, 2.50277298, 2.52027489,\n",
       "       2.5377768 , 2.5552787 , 2.57278061, 2.59028252, 2.60778443,\n",
       "       2.62528634, 2.64278825, 2.66029016, 2.67779207, 2.69529398,\n",
       "       2.71279588, 2.73029779, 2.7477997 , 2.76530161, 2.78280352,\n",
       "       2.80030543, 2.81780734, 2.83530925, 2.85281116, 2.87031307,\n",
       "       2.88781497, 2.90531688, 2.92281879, 2.9403207 , 2.95782261,\n",
       "       2.97532452, 2.99282643, 3.01032834, 3.02783025, 3.04533215,\n",
       "       3.06283406, 3.08033597, 3.09783788, 3.11533979, 3.1328417 ,\n",
       "       3.15034361, 3.16784552, 3.18534743, 3.20284933, 3.22035124,\n",
       "       3.23785315, 3.25535506, 3.27285697, 3.29035888, 3.30786079,\n",
       "       3.3253627 , 3.34286461, 3.36036652, 3.37786842, 3.39537033,\n",
       "       3.41287224, 3.43037415, 3.44787606, 3.46537797, 3.48287988,\n",
       "       3.50038179, 3.5178837 , 3.5353856 , 3.55288751, 3.57038942,\n",
       "       3.58789133, 3.60539324, 3.62289515, 3.64039706, 3.65789897,\n",
       "       3.67540088, 3.69290278, 3.71040469, 3.7279066 , 3.74540851,\n",
       "       3.76291042, 3.78041233, 3.79791424, 3.81541615, 3.83291806,\n",
       "       3.85041997, 3.86792187, 3.88542378, 3.90292569, 3.9204276 ,\n",
       "       3.93792951, 3.95543142, 3.97293333, 3.99043524, 4.00793715,\n",
       "       4.02543905, 4.04294096, 4.06044287, 4.07794478, 4.09544669,\n",
       "       4.1129486 , 4.13045051, 4.14795242, 4.16545433, 4.18295624,\n",
       "       4.20045814, 4.21796005, 4.23546196, 4.25296387, 4.27046578,\n",
       "       4.28796769, 4.3054696 , 4.32297151, 4.34047342, 4.35797532,\n",
       "       4.37547723, 4.39297914, 4.41048105, 4.42798296, 4.44548487,\n",
       "       4.46298678, 4.48048869, 4.4979906 , 4.5154925 , 4.53299441,\n",
       "       4.55049632, 4.56799823, 4.58550014, 4.60300205, 4.62050396,\n",
       "       4.63800587, 4.65550778, 4.67300969, 4.69051159, 4.7080135 ,\n",
       "       4.72551541, 4.74301732, 4.76051923, 4.77802114, 4.79552305,\n",
       "       4.81302496, 4.83052687, 4.84802877, 4.86553068, 4.88303259,\n",
       "       4.9005345 , 4.91803641, 4.93553832, 4.95304023, 4.97054214,\n",
       "       4.98804405, 5.00554596, 5.02304786, 5.04054977, 5.05805168,\n",
       "       5.07555359, 5.0930555 , 5.11055741, 5.12805932, 5.14556123,\n",
       "       5.16306314, 5.18056504, 5.19806695, 5.21556886, 5.23307077,\n",
       "       5.25057268, 5.26807459, 5.2855765 , 5.30307841, 5.32058032,\n",
       "       5.33808222, 5.35558413, 5.37308604, 5.39058795, 5.40808986,\n",
       "       5.42559177, 5.44309368, 5.46059559, 5.4780975 , 5.49559941,\n",
       "       5.51310131, 5.53060322, 5.54810513, 5.56560704, 5.58310895,\n",
       "       5.60061086, 5.61811277, 5.63561468, 5.65311659, 5.67061849,\n",
       "       5.6881204 , 5.70562231, 5.72312422, 5.74062613, 5.75812804,\n",
       "       5.77562995, 5.79313186, 5.81063377, 5.82813567, 5.84563758,\n",
       "       5.86313949, 5.8806414 , 5.89814331, 5.91564522, 5.93314713,\n",
       "       5.95064904, 5.96815095, 5.98565286, 6.00315476, 6.02065667,\n",
       "       6.03815858, 6.05566049, 6.0731624 , 6.09066431, 6.10816622,\n",
       "       6.12566813, 6.14317004, 6.16067194, 6.17817385, 6.19567576,\n",
       "       6.21317767, 6.23067958, 6.24818149, 6.2656834 , 6.28318531])"
      ]
     },
     "execution_count": 94,
     "metadata": {},
     "output_type": "execute_result"
    }
   ],
   "source": [
    "alpha = np.linspace(0,2*np.pi, 360)\n",
    "alpha"
   ]
  },
  {
   "cell_type": "code",
   "execution_count": 95,
   "id": "75480d01",
   "metadata": {},
   "outputs": [
    {
     "data": {
      "text/plain": [
       "array([ 0.00000000e+00,  1.75010154e-02,  3.49966701e-02,  5.24816050e-02,\n",
       "        6.99504644e-02,  8.73978972e-02,  1.04818559e-01,  1.22207115e-01,\n",
       "        1.39558237e-01,  1.56866611e-01,  1.74126935e-01,  1.91333923e-01,\n",
       "        2.08482304e-01,  2.25566824e-01,  2.42582252e-01,  2.59523374e-01,\n",
       "        2.76385002e-01,  2.93161971e-01,  3.09849141e-01,  3.26441402e-01,\n",
       "        3.42933671e-01,  3.59320897e-01,  3.75598059e-01,  3.91760172e-01,\n",
       "        4.07802285e-01,  4.23719485e-01,  4.39506896e-01,  4.55159682e-01,\n",
       "        4.70673048e-01,  4.86042243e-01,  5.01262559e-01,  5.16329334e-01,\n",
       "        5.31237952e-01,  5.45983848e-01,  5.60562503e-01,  5.74969454e-01,\n",
       "        5.89200286e-01,  6.03250640e-01,  6.17116214e-01,  6.30792759e-01,\n",
       "        6.44276087e-01,  6.57562067e-01,  6.70646630e-01,  6.83525768e-01,\n",
       "        6.96195536e-01,  7.08652053e-01,  7.20891503e-01,  7.32910138e-01,\n",
       "        7.44704276e-01,  7.56270304e-01,  7.67604680e-01,  7.78703931e-01,\n",
       "        7.89564659e-01,  8.00183536e-01,  8.10557309e-01,  8.20682802e-01,\n",
       "        8.30556912e-01,  8.40176614e-01,  8.49538964e-01,  8.58641091e-01,\n",
       "        8.67480210e-01,  8.76053611e-01,  8.84358669e-01,  8.92392840e-01,\n",
       "        9.00153664e-01,  9.07638762e-01,  9.14845842e-01,  9.21772696e-01,\n",
       "        9.28417204e-01,  9.34777328e-01,  9.40851123e-01,  9.46636725e-01,\n",
       "        9.52132365e-01,  9.57336358e-01,  9.62247110e-01,  9.66863117e-01,\n",
       "        9.71182966e-01,  9.75205332e-01,  9.78928984e-01,  9.82352781e-01,\n",
       "        9.85475675e-01,  9.88296709e-01,  9.90815018e-01,  9.93029832e-01,\n",
       "        9.94940472e-01,  9.96546353e-01,  9.97846983e-01,  9.98841963e-01,\n",
       "        9.99530989e-01,  9.99913850e-01,  9.99990428e-01,  9.99760700e-01,\n",
       "        9.99224736e-01,  9.98382700e-01,  9.97234852e-01,  9.95781541e-01,\n",
       "        9.94023213e-01,  9.91960407e-01,  9.89593754e-01,  9.86923981e-01,\n",
       "        9.83951903e-01,  9.80678432e-01,  9.77104571e-01,  9.73231413e-01,\n",
       "        9.69060146e-01,  9.64592047e-01,  9.59828485e-01,  9.54770919e-01,\n",
       "        9.49420898e-01,  9.43780061e-01,  9.37850135e-01,  9.31632938e-01,\n",
       "        9.25130373e-01,  9.18344432e-01,  9.11277194e-01,  9.03930823e-01,\n",
       "        8.96307571e-01,  8.88409771e-01,  8.80239844e-01,  8.71800291e-01,\n",
       "        8.63093698e-01,  8.54122731e-01,  8.44890139e-01,  8.35398750e-01,\n",
       "        8.25651470e-01,  8.15651286e-01,  8.05401261e-01,  7.94904534e-01,\n",
       "        7.84164320e-01,  7.73183910e-01,  7.61966667e-01,  7.50516027e-01,\n",
       "        7.38835496e-01,  7.26928654e-01,  7.14799147e-01,  7.02450691e-01,\n",
       "        6.89887067e-01,  6.77112125e-01,  6.64129778e-01,  6.50944001e-01,\n",
       "        6.37558835e-01,  6.23978378e-01,  6.10206791e-01,  5.96248293e-01,\n",
       "        5.82107158e-01,  5.67787719e-01,  5.53294361e-01,  5.38631524e-01,\n",
       "        5.23803699e-01,  5.08815429e-01,  4.93671304e-01,  4.78375963e-01,\n",
       "        4.62934091e-01,  4.47350418e-01,  4.31629717e-01,  4.15776805e-01,\n",
       "        3.99796537e-01,  3.83693807e-01,  3.67473548e-01,  3.51140729e-01,\n",
       "        3.34700352e-01,  3.18157454e-01,  3.01517101e-01,  2.84784390e-01,\n",
       "        2.67964448e-01,  2.51062426e-01,  2.34083501e-01,  2.17032874e-01,\n",
       "        1.99915768e-01,  1.82737426e-01,  1.65503110e-01,  1.48218099e-01,\n",
       "        1.30887687e-01,  1.13517183e-01,  9.61119084e-02,  7.86771933e-02,\n",
       "        6.12183787e-02,  4.37408124e-02,  2.62498479e-02,  8.75084278e-03,\n",
       "       -8.75084278e-03, -2.62498479e-02, -4.37408124e-02, -6.12183787e-02,\n",
       "       -7.86771933e-02, -9.61119084e-02, -1.13517183e-01, -1.30887687e-01,\n",
       "       -1.48218099e-01, -1.65503110e-01, -1.82737426e-01, -1.99915768e-01,\n",
       "       -2.17032874e-01, -2.34083501e-01, -2.51062426e-01, -2.67964448e-01,\n",
       "       -2.84784390e-01, -3.01517101e-01, -3.18157454e-01, -3.34700352e-01,\n",
       "       -3.51140729e-01, -3.67473548e-01, -3.83693807e-01, -3.99796537e-01,\n",
       "       -4.15776805e-01, -4.31629717e-01, -4.47350418e-01, -4.62934091e-01,\n",
       "       -4.78375963e-01, -4.93671304e-01, -5.08815429e-01, -5.23803699e-01,\n",
       "       -5.38631524e-01, -5.53294361e-01, -5.67787719e-01, -5.82107158e-01,\n",
       "       -5.96248293e-01, -6.10206791e-01, -6.23978378e-01, -6.37558835e-01,\n",
       "       -6.50944001e-01, -6.64129778e-01, -6.77112125e-01, -6.89887067e-01,\n",
       "       -7.02450691e-01, -7.14799147e-01, -7.26928654e-01, -7.38835496e-01,\n",
       "       -7.50516027e-01, -7.61966667e-01, -7.73183910e-01, -7.84164320e-01,\n",
       "       -7.94904534e-01, -8.05401261e-01, -8.15651286e-01, -8.25651470e-01,\n",
       "       -8.35398750e-01, -8.44890139e-01, -8.54122731e-01, -8.63093698e-01,\n",
       "       -8.71800291e-01, -8.80239844e-01, -8.88409771e-01, -8.96307571e-01,\n",
       "       -9.03930823e-01, -9.11277194e-01, -9.18344432e-01, -9.25130373e-01,\n",
       "       -9.31632938e-01, -9.37850135e-01, -9.43780061e-01, -9.49420898e-01,\n",
       "       -9.54770919e-01, -9.59828485e-01, -9.64592047e-01, -9.69060146e-01,\n",
       "       -9.73231413e-01, -9.77104571e-01, -9.80678432e-01, -9.83951903e-01,\n",
       "       -9.86923981e-01, -9.89593754e-01, -9.91960407e-01, -9.94023213e-01,\n",
       "       -9.95781541e-01, -9.97234852e-01, -9.98382700e-01, -9.99224736e-01,\n",
       "       -9.99760700e-01, -9.99990428e-01, -9.99913850e-01, -9.99530989e-01,\n",
       "       -9.98841963e-01, -9.97846983e-01, -9.96546353e-01, -9.94940472e-01,\n",
       "       -9.93029832e-01, -9.90815018e-01, -9.88296709e-01, -9.85475675e-01,\n",
       "       -9.82352781e-01, -9.78928984e-01, -9.75205332e-01, -9.71182966e-01,\n",
       "       -9.66863117e-01, -9.62247110e-01, -9.57336358e-01, -9.52132365e-01,\n",
       "       -9.46636725e-01, -9.40851123e-01, -9.34777328e-01, -9.28417204e-01,\n",
       "       -9.21772696e-01, -9.14845842e-01, -9.07638762e-01, -9.00153664e-01,\n",
       "       -8.92392840e-01, -8.84358669e-01, -8.76053611e-01, -8.67480210e-01,\n",
       "       -8.58641091e-01, -8.49538964e-01, -8.40176614e-01, -8.30556912e-01,\n",
       "       -8.20682802e-01, -8.10557309e-01, -8.00183536e-01, -7.89564659e-01,\n",
       "       -7.78703931e-01, -7.67604680e-01, -7.56270304e-01, -7.44704276e-01,\n",
       "       -7.32910138e-01, -7.20891503e-01, -7.08652053e-01, -6.96195536e-01,\n",
       "       -6.83525768e-01, -6.70646630e-01, -6.57562067e-01, -6.44276087e-01,\n",
       "       -6.30792759e-01, -6.17116214e-01, -6.03250640e-01, -5.89200286e-01,\n",
       "       -5.74969454e-01, -5.60562503e-01, -5.45983848e-01, -5.31237952e-01,\n",
       "       -5.16329334e-01, -5.01262559e-01, -4.86042243e-01, -4.70673048e-01,\n",
       "       -4.55159682e-01, -4.39506896e-01, -4.23719485e-01, -4.07802285e-01,\n",
       "       -3.91760172e-01, -3.75598059e-01, -3.59320897e-01, -3.42933671e-01,\n",
       "       -3.26441402e-01, -3.09849141e-01, -2.93161971e-01, -2.76385002e-01,\n",
       "       -2.59523374e-01, -2.42582252e-01, -2.25566824e-01, -2.08482304e-01,\n",
       "       -1.91333923e-01, -1.74126935e-01, -1.56866611e-01, -1.39558237e-01,\n",
       "       -1.22207115e-01, -1.04818559e-01, -8.73978972e-02, -6.99504644e-02,\n",
       "       -5.24816050e-02, -3.49966701e-02, -1.75010154e-02, -2.44929360e-16])"
      ]
     },
     "execution_count": 95,
     "metadata": {},
     "output_type": "execute_result"
    }
   ],
   "source": [
    "np.sin(alpha)"
   ]
  },
  {
   "cell_type": "code",
   "execution_count": 96,
   "id": "4e7cbd21",
   "metadata": {},
   "outputs": [
    {
     "data": {
      "text/plain": [
       "array([ 1.        ,  0.99984685,  0.99938743,  0.99862189,  0.99755047,\n",
       "        0.99617348,  0.99449136,  0.99250462,  0.99021387,  0.9876198 ,\n",
       "        0.98472322,  0.981525  ,  0.97802614,  0.9742277 ,  0.97013084,\n",
       "        0.96573683,  0.961047  ,  0.95606279,  0.95078573,  0.94521744,\n",
       "        0.93935962,  0.93321407,  0.92678266,  0.92006737,  0.91307026,\n",
       "        0.90579346,  0.89823922,  0.89040983,  0.8823077 ,  0.87393532,\n",
       "        0.86529524,  0.85639011,  0.84722266,  0.8377957 ,  0.82811212,\n",
       "        0.81817488,  0.80798702,  0.79755167,  0.78687202,  0.77595135,\n",
       "        0.76479299,  0.75340038,  0.74177699,  0.72992638,  0.7178522 ,\n",
       "        0.70555813,  0.69304794,  0.68032546,  0.66739459,  0.6542593 ,\n",
       "        0.6409236 ,  0.62739157,  0.61366738,  0.59975521,  0.58565933,\n",
       "        0.57138406,  0.55693376,  0.54231288,  0.52752588,  0.51257729,\n",
       "        0.49747169,  0.48221372,  0.46680804,  0.45125937,  0.43557248,\n",
       "        0.41975216,  0.40380328,  0.3877307 ,  0.37153936,  0.35523421,\n",
       "        0.33882025,  0.32230251,  0.30568605,  0.28897595,  0.27217733,\n",
       "        0.25529534,  0.23833516,  0.22130197,  0.20420099,  0.18703747,\n",
       "        0.16981665,  0.15254382,  0.13522426,  0.11786328,  0.1004662 ,\n",
       "        0.08303834,  0.06558505,  0.04811167,  0.03062355,  0.01312605,\n",
       "       -0.00437546, -0.02187564, -0.03936912, -0.05685054, -0.07431454,\n",
       "       -0.09175578, -0.10916892, -0.12654861, -0.14388955, -0.1611864 ,\n",
       "       -0.17843389, -0.19562672, -0.21275963, -0.22982736, -0.2468247 ,\n",
       "       -0.26374644, -0.28058738, -0.29734238, -0.3140063 , -0.33057404,\n",
       "       -0.34704052, -0.3634007 , -0.37964957, -0.39578214, -0.41179349,\n",
       "       -0.4276787 , -0.4434329 , -0.45905128, -0.47452905, -0.48986146,\n",
       "       -0.50504383, -0.52007149, -0.53493986, -0.54964437, -0.56418051,\n",
       "       -0.57854384, -0.59272996, -0.60673452, -0.62055324, -0.63418187,\n",
       "       -0.64761624, -0.66085225, -0.67388583, -0.68671299, -0.69932981,\n",
       "       -0.71173241, -0.72391701, -0.73587986, -0.74761731, -0.75912575,\n",
       "       -0.77040167, -0.78144161, -0.79224218, -0.80280008, -0.81311208,\n",
       "       -0.82317502, -0.8329858 , -0.84254144, -0.851839  , -0.86087564,\n",
       "       -0.86964857, -0.87815513, -0.88639271, -0.89435877, -0.90205088,\n",
       "       -0.90946668, -0.91660391, -0.92346037, -0.93003397, -0.93632269,\n",
       "       -0.94232461, -0.94803789, -0.95346077, -0.9585916 , -0.9634288 ,\n",
       "       -0.9679709 , -0.9722165 , -0.9761643 , -0.97981309, -0.98316175,\n",
       "       -0.98620927, -0.9889547 , -0.9913972 , -0.99353603, -0.99537053,\n",
       "       -0.99690015, -0.9981244 , -0.99904291, -0.99965541, -0.99996171,\n",
       "       -0.99996171, -0.99965541, -0.99904291, -0.9981244 , -0.99690015,\n",
       "       -0.99537053, -0.99353603, -0.9913972 , -0.9889547 , -0.98620927,\n",
       "       -0.98316175, -0.97981309, -0.9761643 , -0.9722165 , -0.9679709 ,\n",
       "       -0.9634288 , -0.9585916 , -0.95346077, -0.94803789, -0.94232461,\n",
       "       -0.93632269, -0.93003397, -0.92346037, -0.91660391, -0.90946668,\n",
       "       -0.90205088, -0.89435877, -0.88639271, -0.87815513, -0.86964857,\n",
       "       -0.86087564, -0.851839  , -0.84254144, -0.8329858 , -0.82317502,\n",
       "       -0.81311208, -0.80280008, -0.79224218, -0.78144161, -0.77040167,\n",
       "       -0.75912575, -0.74761731, -0.73587986, -0.72391701, -0.71173241,\n",
       "       -0.69932981, -0.68671299, -0.67388583, -0.66085225, -0.64761624,\n",
       "       -0.63418187, -0.62055324, -0.60673452, -0.59272996, -0.57854384,\n",
       "       -0.56418051, -0.54964437, -0.53493986, -0.52007149, -0.50504383,\n",
       "       -0.48986146, -0.47452905, -0.45905128, -0.4434329 , -0.4276787 ,\n",
       "       -0.41179349, -0.39578214, -0.37964957, -0.3634007 , -0.34704052,\n",
       "       -0.33057404, -0.3140063 , -0.29734238, -0.28058738, -0.26374644,\n",
       "       -0.2468247 , -0.22982736, -0.21275963, -0.19562672, -0.17843389,\n",
       "       -0.1611864 , -0.14388955, -0.12654861, -0.10916892, -0.09175578,\n",
       "       -0.07431454, -0.05685054, -0.03936912, -0.02187564, -0.00437546,\n",
       "        0.01312605,  0.03062355,  0.04811167,  0.06558505,  0.08303834,\n",
       "        0.1004662 ,  0.11786328,  0.13522426,  0.15254382,  0.16981665,\n",
       "        0.18703747,  0.20420099,  0.22130197,  0.23833516,  0.25529534,\n",
       "        0.27217733,  0.28897595,  0.30568605,  0.32230251,  0.33882025,\n",
       "        0.35523421,  0.37153936,  0.3877307 ,  0.40380328,  0.41975216,\n",
       "        0.43557248,  0.45125937,  0.46680804,  0.48221372,  0.49747169,\n",
       "        0.51257729,  0.52752588,  0.54231288,  0.55693376,  0.57138406,\n",
       "        0.58565933,  0.59975521,  0.61366738,  0.62739157,  0.6409236 ,\n",
       "        0.6542593 ,  0.66739459,  0.68032546,  0.69304794,  0.70555813,\n",
       "        0.7178522 ,  0.72992638,  0.74177699,  0.75340038,  0.76479299,\n",
       "        0.77595135,  0.78687202,  0.79755167,  0.80798702,  0.81817488,\n",
       "        0.82811212,  0.8377957 ,  0.84722266,  0.85639011,  0.86529524,\n",
       "        0.87393532,  0.8823077 ,  0.89040983,  0.89823922,  0.90579346,\n",
       "        0.91307026,  0.92006737,  0.92678266,  0.93321407,  0.93935962,\n",
       "        0.94521744,  0.95078573,  0.95606279,  0.961047  ,  0.96573683,\n",
       "        0.97013084,  0.9742277 ,  0.97802614,  0.981525  ,  0.98472322,\n",
       "        0.9876198 ,  0.99021387,  0.99250462,  0.99449136,  0.99617348,\n",
       "        0.99755047,  0.99862189,  0.99938743,  0.99984685,  1.        ])"
      ]
     },
     "execution_count": 96,
     "metadata": {},
     "output_type": "execute_result"
    }
   ],
   "source": [
    "np.cos(alpha)"
   ]
  },
  {
   "cell_type": "code",
   "execution_count": 97,
   "id": "c52dd0fc",
   "metadata": {},
   "outputs": [
    {
     "data": {
      "text/plain": [
       "array([ 0.00000000e+00,  1.75036962e-02,  3.50181212e-02,  5.25540302e-02,\n",
       "        7.01222311e-02,  8.77336114e-02,  1.05399165e-01,  1.23130021e-01,\n",
       "        1.40937470e-01,  1.58832995e-01,  1.76828303e-01,  1.94935353e-01,\n",
       "        2.13166392e-01,  2.31533988e-01,  2.50051066e-01,  2.68730949e-01,\n",
       "        2.87587394e-01,  3.06634641e-01,  3.25887453e-01,  3.45361171e-01,\n",
       "        3.65071761e-01,  3.85035877e-01,  4.05270917e-01,  4.25795093e-01,\n",
       "        4.46627498e-01,  4.67788191e-01,  4.89298272e-01,  5.11179984e-01,\n",
       "        5.33456805e-01,  5.56153567e-01,  5.79296566e-01,  6.02913705e-01,\n",
       "        6.27034635e-01,  6.51690915e-01,  6.76916194e-01,  7.02746406e-01,\n",
       "        7.29219989e-01,  7.56378130e-01,  7.84265035e-01,  8.12928233e-01,\n",
       "        8.42418918e-01,  8.72792325e-01,  9.04108165e-01,  9.36431103e-01,\n",
       "        9.69831309e-01,  1.00438508e+00,  1.04017553e+00,  1.07729342e+00,\n",
       "        1.11583804e+00,  1.15591832e+00,  1.19765396e+00,  1.24117690e+00,\n",
       "        1.28663294e+00,  1.33418356e+00,  1.38400819e+00,  1.43630680e+00,\n",
       "        1.49130286e+00,  1.54924703e+00,  1.61042141e+00,  1.67514463e+00,\n",
       "        1.74377803e+00,  1.81673307e+00,  1.89448038e+00,  1.97756080e+00,\n",
       "        2.06659905e+00,  2.16232063e+00,  2.26557310e+00,  2.37735288e+00,\n",
       "        2.49883943e+00,  2.63143947e+00,  2.77684438e+00,  2.93710625e+00,\n",
       "        3.11473937e+00,  3.31285828e+00,  3.53536832e+00,  3.78723365e+00,\n",
       "        4.07486237e+00,  4.40667267e+00,  4.79394826e+00,  5.25217117e+00,\n",
       "        5.80317469e+00,  6.47877273e+00,  7.32719887e+00,  8.42526914e+00,\n",
       "        9.90323628e+00,  1.20010389e+01,  1.52145495e+01,  2.07609085e+01,\n",
       "        3.26392897e+01,  7.61777906e+01, -2.28545040e+02, -4.57020070e+01,\n",
       "       -2.53809276e+01, -1.75615354e+01, -1.34191081e+01, -1.08525210e+01,\n",
       "       -9.10536850e+00, -7.83857198e+00, -6.87745418e+00, -6.12287364e+00,\n",
       "       -5.51437796e+00, -5.01300866e+00, -4.59252816e+00, -4.23461942e+00,\n",
       "       -3.92610683e+00, -3.65727046e+00, -3.42078278e+00, -3.21101524e+00,\n",
       "       -3.02357274e+00, -2.85497330e+00, -2.70242256e+00, -2.56365201e+00,\n",
       "       -2.43680081e+00, -2.32032811e+00, -2.21294708e+00, -2.11357459e+00,\n",
       "       -2.02129244e+00, -1.93531705e+00, -1.85497568e+00, -1.77968744e+00,\n",
       "       -1.70894811e+00, -1.64231791e+00, -1.57941145e+00, -1.51988959e+00,\n",
       "       -1.46345266e+00, -1.40983487e+00, -1.35879964e+00, -1.31013566e+00,\n",
       "       -1.26365358e+00, -1.21918325e+00, -1.17657127e+00, -1.13567901e+00,\n",
       "       -1.09638082e+00, -1.05856255e+00, -1.02212023e+00, -9.86958972e-01,\n",
       "       -9.52991931e-01, -9.20139497e-01, -8.88328521e-01, -8.57491660e-01,\n",
       "       -8.27566787e-01, -7.98496488e-01, -7.70227598e-01, -7.42710801e-01,\n",
       "       -7.15900269e-01, -6.89753343e-01, -6.64230240e-01, -6.39293804e-01,\n",
       "       -6.14909271e-01, -5.91044058e-01, -5.67667582e-01, -5.44751086e-01,\n",
       "       -5.22267487e-01, -5.00191237e-01, -4.78498195e-01, -4.57165515e-01,\n",
       "       -4.36171537e-01, -4.15495691e-01, -3.95118413e-01, -3.75021059e-01,\n",
       "       -3.55185833e-01, -3.35595716e-01, -3.16234407e-01, -2.97086258e-01,\n",
       "       -2.78136223e-01, -2.59369808e-01, -2.40773019e-01, -2.22332322e-01,\n",
       "       -2.04034597e-01, -1.85867102e-01, -1.67817435e-01, -1.49873497e-01,\n",
       "       -1.32023458e-01, -1.14255729e-01, -9.65589246e-02, -7.89218396e-02,\n",
       "       -6.13334159e-02, -4.37827163e-02, -2.62588963e-02, -8.75117785e-03,\n",
       "        8.75117785e-03,  2.62588963e-02,  4.37827163e-02,  6.13334159e-02,\n",
       "        7.89218396e-02,  9.65589246e-02,  1.14255729e-01,  1.32023458e-01,\n",
       "        1.49873497e-01,  1.67817435e-01,  1.85867102e-01,  2.04034597e-01,\n",
       "        2.22332322e-01,  2.40773019e-01,  2.59369808e-01,  2.78136223e-01,\n",
       "        2.97086258e-01,  3.16234407e-01,  3.35595716e-01,  3.55185833e-01,\n",
       "        3.75021059e-01,  3.95118413e-01,  4.15495691e-01,  4.36171537e-01,\n",
       "        4.57165515e-01,  4.78498195e-01,  5.00191237e-01,  5.22267487e-01,\n",
       "        5.44751086e-01,  5.67667582e-01,  5.91044058e-01,  6.14909271e-01,\n",
       "        6.39293804e-01,  6.64230240e-01,  6.89753343e-01,  7.15900269e-01,\n",
       "        7.42710801e-01,  7.70227598e-01,  7.98496488e-01,  8.27566787e-01,\n",
       "        8.57491660e-01,  8.88328521e-01,  9.20139497e-01,  9.52991931e-01,\n",
       "        9.86958972e-01,  1.02212023e+00,  1.05856255e+00,  1.09638082e+00,\n",
       "        1.13567901e+00,  1.17657127e+00,  1.21918325e+00,  1.26365358e+00,\n",
       "        1.31013566e+00,  1.35879964e+00,  1.40983487e+00,  1.46345266e+00,\n",
       "        1.51988959e+00,  1.57941145e+00,  1.64231791e+00,  1.70894811e+00,\n",
       "        1.77968744e+00,  1.85497568e+00,  1.93531705e+00,  2.02129244e+00,\n",
       "        2.11357459e+00,  2.21294708e+00,  2.32032811e+00,  2.43680081e+00,\n",
       "        2.56365201e+00,  2.70242256e+00,  2.85497330e+00,  3.02357274e+00,\n",
       "        3.21101524e+00,  3.42078278e+00,  3.65727046e+00,  3.92610683e+00,\n",
       "        4.23461942e+00,  4.59252816e+00,  5.01300866e+00,  5.51437796e+00,\n",
       "        6.12287364e+00,  6.87745418e+00,  7.83857198e+00,  9.10536850e+00,\n",
       "        1.08525210e+01,  1.34191081e+01,  1.75615354e+01,  2.53809276e+01,\n",
       "        4.57020070e+01,  2.28545040e+02, -7.61777906e+01, -3.26392897e+01,\n",
       "       -2.07609085e+01, -1.52145495e+01, -1.20010389e+01, -9.90323628e+00,\n",
       "       -8.42526914e+00, -7.32719887e+00, -6.47877273e+00, -5.80317469e+00,\n",
       "       -5.25217117e+00, -4.79394826e+00, -4.40667267e+00, -4.07486237e+00,\n",
       "       -3.78723365e+00, -3.53536832e+00, -3.31285828e+00, -3.11473937e+00,\n",
       "       -2.93710625e+00, -2.77684438e+00, -2.63143947e+00, -2.49883943e+00,\n",
       "       -2.37735288e+00, -2.26557310e+00, -2.16232063e+00, -2.06659905e+00,\n",
       "       -1.97756080e+00, -1.89448038e+00, -1.81673307e+00, -1.74377803e+00,\n",
       "       -1.67514463e+00, -1.61042141e+00, -1.54924703e+00, -1.49130286e+00,\n",
       "       -1.43630680e+00, -1.38400819e+00, -1.33418356e+00, -1.28663294e+00,\n",
       "       -1.24117690e+00, -1.19765396e+00, -1.15591832e+00, -1.11583804e+00,\n",
       "       -1.07729342e+00, -1.04017553e+00, -1.00438508e+00, -9.69831309e-01,\n",
       "       -9.36431103e-01, -9.04108165e-01, -8.72792325e-01, -8.42418918e-01,\n",
       "       -8.12928233e-01, -7.84265035e-01, -7.56378130e-01, -7.29219989e-01,\n",
       "       -7.02746406e-01, -6.76916194e-01, -6.51690915e-01, -6.27034635e-01,\n",
       "       -6.02913705e-01, -5.79296566e-01, -5.56153567e-01, -5.33456805e-01,\n",
       "       -5.11179984e-01, -4.89298272e-01, -4.67788191e-01, -4.46627498e-01,\n",
       "       -4.25795093e-01, -4.05270917e-01, -3.85035877e-01, -3.65071761e-01,\n",
       "       -3.45361171e-01, -3.25887453e-01, -3.06634641e-01, -2.87587394e-01,\n",
       "       -2.68730949e-01, -2.50051066e-01, -2.31533988e-01, -2.13166392e-01,\n",
       "       -1.94935353e-01, -1.76828303e-01, -1.58832995e-01, -1.40937470e-01,\n",
       "       -1.23130021e-01, -1.05399165e-01, -8.77336114e-02, -7.01222311e-02,\n",
       "       -5.25540302e-02, -3.50181212e-02, -1.75036962e-02, -2.44929360e-16])"
      ]
     },
     "execution_count": 97,
     "metadata": {},
     "output_type": "execute_result"
    }
   ],
   "source": [
    "np.tan(alpha)"
   ]
  },
  {
   "cell_type": "code",
   "execution_count": 98,
   "id": "dc2e0701",
   "metadata": {},
   "outputs": [
    {
     "data": {
      "text/plain": [
       "array([1.00000000e+00, 2.71828183e+00, 7.38905610e+00, 2.00855369e+01,\n",
       "       5.45981500e+01, 1.48413159e+02, 4.03428793e+02, 1.09663316e+03,\n",
       "       2.98095799e+03, 8.10308393e+03])"
      ]
     },
     "execution_count": 98,
     "metadata": {},
     "output_type": "execute_result"
    }
   ],
   "source": [
    "np.exp(x)"
   ]
  },
  {
   "cell_type": "code",
   "execution_count": 99,
   "id": "e94bc543",
   "metadata": {},
   "outputs": [
    {
     "data": {
      "text/plain": [
       "array([  1.,   2.,   4.,   8.,  16.,  32.,  64., 128., 256., 512.])"
      ]
     },
     "execution_count": 99,
     "metadata": {},
     "output_type": "execute_result"
    }
   ],
   "source": [
    "np.exp2(x)"
   ]
  },
  {
   "cell_type": "code",
   "execution_count": 100,
   "id": "1e1473d0",
   "metadata": {},
   "outputs": [
    {
     "data": {
      "text/plain": [
       "array([    1,     3,     9,    27,    81,   243,   729,  2187,  6561,\n",
       "       19683], dtype=int32)"
      ]
     },
     "execution_count": 100,
     "metadata": {},
     "output_type": "execute_result"
    }
   ],
   "source": [
    "np.power(3,x)"
   ]
  },
  {
   "cell_type": "code",
   "execution_count": 101,
   "id": "40c851da",
   "metadata": {},
   "outputs": [
    {
     "data": {
      "text/plain": [
       "array([ 0,  1,  4,  9, 16, 25, 36, 49, 64, 81], dtype=int32)"
      ]
     },
     "execution_count": 101,
     "metadata": {},
     "output_type": "execute_result"
    }
   ],
   "source": [
    "np.power(x,2)"
   ]
  },
  {
   "cell_type": "code",
   "execution_count": 102,
   "id": "615e1b62",
   "metadata": {},
   "outputs": [
    {
     "name": "stderr",
     "output_type": "stream",
     "text": [
      "<ipython-input-102-de666c833898>:1: RuntimeWarning: divide by zero encountered in log\n",
      "  np.log(x)\n"
     ]
    },
    {
     "data": {
      "text/plain": [
       "array([      -inf, 0.        , 0.69314718, 1.09861229, 1.38629436,\n",
       "       1.60943791, 1.79175947, 1.94591015, 2.07944154, 2.19722458])"
      ]
     },
     "execution_count": 102,
     "metadata": {},
     "output_type": "execute_result"
    }
   ],
   "source": [
    "np.log(x)"
   ]
  },
  {
   "cell_type": "code",
   "execution_count": 103,
   "id": "47f7d126",
   "metadata": {},
   "outputs": [
    {
     "name": "stderr",
     "output_type": "stream",
     "text": [
      "<ipython-input-103-55ee5869f62c>:1: RuntimeWarning: divide by zero encountered in log2\n",
      "  np.log2(x)\n"
     ]
    },
    {
     "data": {
      "text/plain": [
       "array([      -inf, 0.        , 1.        , 1.5849625 , 2.        ,\n",
       "       2.32192809, 2.5849625 , 2.80735492, 3.        , 3.169925  ])"
      ]
     },
     "execution_count": 103,
     "metadata": {},
     "output_type": "execute_result"
    }
   ],
   "source": [
    "np.log2(x)"
   ]
  },
  {
   "cell_type": "code",
   "execution_count": 104,
   "id": "f7b49b5c",
   "metadata": {},
   "outputs": [
    {
     "name": "stderr",
     "output_type": "stream",
     "text": [
      "<ipython-input-104-eac94c5d7a5a>:1: RuntimeWarning: divide by zero encountered in log10\n",
      "  np.log10(x)\n"
     ]
    },
    {
     "data": {
      "text/plain": [
       "array([      -inf, 0.        , 0.30103   , 0.47712125, 0.60205999,\n",
       "       0.69897   , 0.77815125, 0.84509804, 0.90308999, 0.95424251])"
      ]
     },
     "execution_count": 104,
     "metadata": {},
     "output_type": "execute_result"
    }
   ],
   "source": [
    "np.log10(x)"
   ]
  },
  {
   "cell_type": "markdown",
   "id": "90cd3835",
   "metadata": {},
   "source": [
    "$$\\sum_{i=1}^{n}x_i$$"
   ]
  },
  {
   "cell_type": "code",
   "execution_count": 105,
   "id": "82bb6bc8",
   "metadata": {},
   "outputs": [
    {
     "data": {
      "text/plain": [
       "45"
      ]
     },
     "execution_count": 105,
     "metadata": {},
     "output_type": "execute_result"
    }
   ],
   "source": [
    "np.sum(x)"
   ]
  },
  {
   "cell_type": "code",
   "execution_count": 106,
   "id": "675e8619",
   "metadata": {},
   "outputs": [
    {
     "data": {
      "text/plain": [
       "45"
      ]
     },
     "execution_count": 106,
     "metadata": {},
     "output_type": "execute_result"
    }
   ],
   "source": [
    "np.nansum(x)"
   ]
  },
  {
   "cell_type": "markdown",
   "id": "8c96fcec",
   "metadata": {},
   "source": [
    "$$\\prod_{i=1}^{n}x_i$$"
   ]
  },
  {
   "cell_type": "code",
   "execution_count": 107,
   "id": "696e096b",
   "metadata": {},
   "outputs": [
    {
     "data": {
      "text/plain": [
       "0"
      ]
     },
     "execution_count": 107,
     "metadata": {},
     "output_type": "execute_result"
    }
   ],
   "source": [
    "np.prod(x)"
   ]
  },
  {
   "cell_type": "markdown",
   "id": "a6593ce6",
   "metadata": {},
   "source": [
    "$$\\bar{x}$$"
   ]
  },
  {
   "cell_type": "code",
   "execution_count": 108,
   "id": "37587e58",
   "metadata": {},
   "outputs": [
    {
     "data": {
      "text/plain": [
       "4.5"
      ]
     },
     "execution_count": 108,
     "metadata": {},
     "output_type": "execute_result"
    }
   ],
   "source": [
    "np.mean(x)"
   ]
  },
  {
   "cell_type": "markdown",
   "id": "771770b4",
   "metadata": {},
   "source": [
    "$$\\tilde{x}$$"
   ]
  },
  {
   "cell_type": "code",
   "execution_count": 109,
   "id": "4d76ebd8",
   "metadata": {},
   "outputs": [
    {
     "data": {
      "text/plain": [
       "4.5"
      ]
     },
     "execution_count": 109,
     "metadata": {},
     "output_type": "execute_result"
    }
   ],
   "source": [
    "np.median(x)"
   ]
  },
  {
   "cell_type": "markdown",
   "id": "322331da",
   "metadata": {},
   "source": [
    "$$x_{min}$$"
   ]
  },
  {
   "cell_type": "code",
   "execution_count": 110,
   "id": "e9796936",
   "metadata": {},
   "outputs": [
    {
     "data": {
      "text/plain": [
       "0"
      ]
     },
     "execution_count": 110,
     "metadata": {},
     "output_type": "execute_result"
    }
   ],
   "source": [
    "np.min(x)"
   ]
  },
  {
   "cell_type": "markdown",
   "id": "d2b0b15f",
   "metadata": {},
   "source": [
    "$$x_{max}$$"
   ]
  },
  {
   "cell_type": "code",
   "execution_count": 111,
   "id": "f2aeba79",
   "metadata": {},
   "outputs": [
    {
     "data": {
      "text/plain": [
       "9"
      ]
     },
     "execution_count": 111,
     "metadata": {},
     "output_type": "execute_result"
    }
   ],
   "source": [
    "np.max(x)"
   ]
  },
  {
   "cell_type": "markdown",
   "id": "2125b743",
   "metadata": {},
   "source": [
    "$$\\sigma_x$$"
   ]
  },
  {
   "cell_type": "code",
   "execution_count": 112,
   "id": "7ba2dadb",
   "metadata": {},
   "outputs": [
    {
     "data": {
      "text/plain": [
       "2.8722813232690143"
      ]
     },
     "execution_count": 112,
     "metadata": {},
     "output_type": "execute_result"
    }
   ],
   "source": [
    "np.std(x)"
   ]
  },
  {
   "cell_type": "markdown",
   "id": "36ca2c35",
   "metadata": {},
   "source": [
    "$$\\sigma^2_x$$"
   ]
  },
  {
   "cell_type": "code",
   "execution_count": 113,
   "id": "c1110fb3",
   "metadata": {},
   "outputs": [
    {
     "data": {
      "text/plain": [
       "8.25"
      ]
     },
     "execution_count": 113,
     "metadata": {},
     "output_type": "execute_result"
    }
   ],
   "source": [
    "np.var(x)"
   ]
  },
  {
   "cell_type": "markdown",
   "id": "fe8782f9",
   "metadata": {},
   "source": [
    "$$i_{x_{min}}$$"
   ]
  },
  {
   "cell_type": "code",
   "execution_count": 114,
   "id": "7a093be8",
   "metadata": {},
   "outputs": [
    {
     "data": {
      "text/plain": [
       "0"
      ]
     },
     "execution_count": 114,
     "metadata": {},
     "output_type": "execute_result"
    }
   ],
   "source": [
    "np.argmin(x)"
   ]
  },
  {
   "cell_type": "markdown",
   "id": "4639f166",
   "metadata": {},
   "source": [
    "$$i_{x_{max}}$$"
   ]
  },
  {
   "cell_type": "code",
   "execution_count": 115,
   "id": "4b086e94",
   "metadata": {},
   "outputs": [
    {
     "data": {
      "text/plain": [
       "9"
      ]
     },
     "execution_count": 115,
     "metadata": {},
     "output_type": "execute_result"
    }
   ],
   "source": [
    "np.argmax(x)"
   ]
  },
  {
   "cell_type": "markdown",
   "id": "40cd20ba",
   "metadata": {},
   "source": [
    "$$Q_2x$$"
   ]
  },
  {
   "cell_type": "code",
   "execution_count": 119,
   "id": "1892d530",
   "metadata": {},
   "outputs": [
    {
     "data": {
      "text/plain": [
       "4.5"
      ]
     },
     "execution_count": 119,
     "metadata": {},
     "output_type": "execute_result"
    }
   ],
   "source": [
    "np.percentile(x, q=50)"
   ]
  },
  {
   "cell_type": "markdown",
   "id": "a648eafe",
   "metadata": {},
   "source": [
    "$$P_{95}x$$"
   ]
  },
  {
   "cell_type": "code",
   "execution_count": 120,
   "id": "1ae74181",
   "metadata": {},
   "outputs": [
    {
     "data": {
      "text/plain": [
       "8.549999999999999"
      ]
     },
     "execution_count": 120,
     "metadata": {},
     "output_type": "execute_result"
    }
   ],
   "source": [
    "np.percentile(x, q=95)"
   ]
  },
  {
   "cell_type": "code",
   "execution_count": 121,
   "id": "41f40ce8",
   "metadata": {},
   "outputs": [],
   "source": [
    "y = np.array([True, True, False, True])"
   ]
  },
  {
   "cell_type": "code",
   "execution_count": 122,
   "id": "3ab4bbd1",
   "metadata": {},
   "outputs": [
    {
     "data": {
      "text/plain": [
       "True"
      ]
     },
     "execution_count": 122,
     "metadata": {},
     "output_type": "execute_result"
    }
   ],
   "source": [
    "np.any(y)"
   ]
  },
  {
   "cell_type": "code",
   "execution_count": 123,
   "id": "5f8d06b4",
   "metadata": {},
   "outputs": [
    {
     "data": {
      "text/plain": [
       "False"
      ]
     },
     "execution_count": 123,
     "metadata": {},
     "output_type": "execute_result"
    }
   ],
   "source": [
    "np.all(y)"
   ]
  },
  {
   "cell_type": "code",
   "execution_count": 140,
   "id": "fd3dded1",
   "metadata": {
    "scrolled": true
   },
   "outputs": [
    {
     "data": {
      "text/plain": [
       "array([[0.60597828, 0.73336936, 0.13894716, 0.31267308, 0.99724328],\n",
       "       [0.12816238, 0.17899311, 0.75292543, 0.66216051, 0.78431013],\n",
       "       [0.0968944 , 0.05857129, 0.96239599, 0.61655744, 0.08662996]])"
      ]
     },
     "execution_count": 140,
     "metadata": {},
     "output_type": "execute_result"
    }
   ],
   "source": [
    "np.random.seed(2021)\n",
    "z = np.random.random((3,5))\n",
    "z"
   ]
  },
  {
   "cell_type": "code",
   "execution_count": 141,
   "id": "968bf285",
   "metadata": {
    "scrolled": true
   },
   "outputs": [
    {
     "data": {
      "text/plain": [
       "7.115811794886615"
      ]
     },
     "execution_count": 141,
     "metadata": {},
     "output_type": "execute_result"
    }
   ],
   "source": [
    "z.sum()"
   ]
  },
  {
   "cell_type": "code",
   "execution_count": 142,
   "id": "58a69694",
   "metadata": {},
   "outputs": [
    {
     "data": {
      "text/plain": [
       "array([0.83103505, 0.97093375, 1.85426858, 1.59139104, 1.86818337])"
      ]
     },
     "execution_count": 142,
     "metadata": {},
     "output_type": "execute_result"
    }
   ],
   "source": [
    "z.sum(axis=0)"
   ]
  },
  {
   "cell_type": "code",
   "execution_count": 143,
   "id": "5f7ae01e",
   "metadata": {},
   "outputs": [
    {
     "data": {
      "text/plain": [
       "array([2.78821116, 2.50655156, 1.82104908])"
      ]
     },
     "execution_count": 143,
     "metadata": {},
     "output_type": "execute_result"
    }
   ],
   "source": [
    "z.sum(axis=1)"
   ]
  }
 ],
 "metadata": {
  "kernelspec": {
   "display_name": "Python 3",
   "language": "python",
   "name": "python3"
  },
  "language_info": {
   "codemirror_mode": {
    "name": "ipython",
    "version": 3
   },
   "file_extension": ".py",
   "mimetype": "text/x-python",
   "name": "python",
   "nbconvert_exporter": "python",
   "pygments_lexer": "ipython3",
   "version": "3.8.10"
  }
 },
 "nbformat": 4,
 "nbformat_minor": 5
}
