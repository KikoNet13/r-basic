{
 "cells": [
  {
   "cell_type": "code",
   "execution_count": 1,
   "id": "38b96843",
   "metadata": {},
   "outputs": [
    {
     "name": "stdout",
     "output_type": "stream",
     "text": [
      "Introduce un número real: 2.3\n",
      "Introduce un número real: -56\n",
      "Introduce un número real: 0\n"
     ]
    },
    {
     "data": {
      "text/plain": [
       "False"
      ]
     },
     "execution_count": 1,
     "metadata": {},
     "output_type": "execute_result"
    }
   ],
   "source": [
    "def esPositivo():\n",
    "    numero = float(input(\"Introduce un número real: \"))\n",
    "    if numero>0:\n",
    "        return True\n",
    "    else:\n",
    "        return False\n",
    "esPositivo() #2.3 True\n",
    "esPositivo() #-56 False\n",
    "esPositivo() #0 False"
   ]
  },
  {
   "cell_type": "code",
   "execution_count": 2,
   "id": "b59df480",
   "metadata": {},
   "outputs": [
    {
     "name": "stdout",
     "output_type": "stream",
     "text": [
      "Introduce un número real: 2.3\n",
      "Introduce un número real: -56\n",
      "Introduce un número real: 5\n"
     ]
    },
    {
     "data": {
      "text/plain": [
       "True"
      ]
     },
     "execution_count": 2,
     "metadata": {},
     "output_type": "execute_result"
    }
   ],
   "source": [
    "def estaEnRango():\n",
    "    numero = float(input(\"Introduce un número real: \"))\n",
    "    if numero>=-5 and numero <=5:\n",
    "        return True\n",
    "    else:\n",
    "        return False\n",
    "estaEnRango() #2.3 True\n",
    "estaEnRango() #-56 False\n",
    "estaEnRango() #5 True"
   ]
  },
  {
   "cell_type": "code",
   "execution_count": null,
   "id": "42faaf34",
   "metadata": {},
   "outputs": [],
   "source": []
  }
 ],
 "metadata": {
  "kernelspec": {
   "display_name": "Python 3",
   "language": "python",
   "name": "python3"
  },
  "language_info": {
   "codemirror_mode": {
    "name": "ipython",
    "version": 3
   },
   "file_extension": ".py",
   "mimetype": "text/x-python",
   "name": "python",
   "nbconvert_exporter": "python",
   "pygments_lexer": "ipython3",
   "version": "3.8.10"
  }
 },
 "nbformat": 4,
 "nbformat_minor": 5
}
