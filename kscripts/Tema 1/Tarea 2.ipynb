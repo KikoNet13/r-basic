{
 "cells": [
  {
   "cell_type": "code",
   "execution_count": 1,
   "id": "38b96843",
   "metadata": {},
   "outputs": [
    {
     "name": "stdout",
     "output_type": "stream",
     "text": [
      "Introduce un número real: 2.3\n",
      "Introduce un número real: -56\n",
      "Introduce un número real: 0\n"
     ]
    },
    {
     "data": {
      "text/plain": [
       "False"
      ]
     },
     "execution_count": 1,
     "metadata": {},
     "output_type": "execute_result"
    }
   ],
   "source": [
    "def esPositivo():\n",
    "    numero = float(input(\"Introduce un número real: \"))\n",
    "    if numero>0:\n",
    "        return True\n",
    "    else:\n",
    "        return False\n",
    "esPositivo() #2.3 True\n",
    "esPositivo() #-56 False\n",
    "esPositivo() #0 False"
   ]
  },
  {
   "cell_type": "code",
   "execution_count": 2,
   "id": "b59df480",
   "metadata": {},
   "outputs": [
    {
     "name": "stdout",
     "output_type": "stream",
     "text": [
      "Introduce un número real: 2.3\n",
      "Introduce un número real: -56\n",
      "Introduce un número real: 5\n"
     ]
    },
    {
     "data": {
      "text/plain": [
       "True"
      ]
     },
     "execution_count": 2,
     "metadata": {},
     "output_type": "execute_result"
    }
   ],
   "source": [
    "def estaEnRango():\n",
    "    numero = float(input(\"Introduce un número real: \"))\n",
    "    if numero>=-5 and numero <=5:\n",
    "        return True\n",
    "    else:\n",
    "        return False\n",
    "estaEnRango() #2.3 True\n",
    "estaEnRango() #-56 False\n",
    "estaEnRango() #5 True"
   ]
  },
  {
   "cell_type": "code",
   "execution_count": 1,
   "id": "42faaf34",
   "metadata": {},
   "outputs": [
    {
     "name": "stdout",
     "output_type": "stream",
     "text": [
      "Introduce x: 3\n",
      "Introduce y: 2.3\n",
      "Introduce x: 1\n",
      "Introduce y: -1\n",
      "Introduce x: 1\n",
      "Introduce y: 0\n"
     ]
    },
    {
     "data": {
      "text/plain": [
       "'No pertenece a ningún cuadrante'"
      ]
     },
     "execution_count": 1,
     "metadata": {},
     "output_type": "execute_result"
    }
   ],
   "source": [
    "def cuadrante():\n",
    "    x = float(input(\"Introduce x: \"))\n",
    "    y = float(input(\"Introduce y: \"))\n",
    "    if x==0 or y==0:\n",
    "        return \"No pertenece a ningún cuadrante\"\n",
    "    else:\n",
    "        if x>0:\n",
    "            if y>0:\n",
    "                return \"I (Positivo, Positivo)\"\n",
    "            else:\n",
    "                return \"IV (Positivo, Negativo)\"\n",
    "        else:\n",
    "            if y>0:\n",
    "                return \"II (Negativo, Positivo)\"\n",
    "            else:\n",
    "                return \"III (Negativo, Negativo)\"\n",
    "cuadrante() # 1, -1 'IV (Positivo, Negativo)'\n",
    "cuadrante() # 3, 2.3 'I (Positivo, Positivo)'\n",
    "cuadrante() # 1, 0 'No pertenece a ningún cuadrante\""
   ]
  },
  {
   "cell_type": "code",
   "execution_count": 2,
   "id": "b68ad329",
   "metadata": {},
   "outputs": [
    {
     "name": "stdout",
     "output_type": "stream",
     "text": [
      "Introduce dividendo: 5\n",
      "Introduce divisor: 2\n",
      "Cociente: 2\n",
      "Resto: 1\n",
      "Introduce dividendo: 6\n",
      "Introduce divisor: 2\n",
      "Cociente: 3\n",
      "Resto: 0\n"
     ]
    }
   ],
   "source": [
    "def division():\n",
    "    a = int(input(\"Introduce dividendo: \"))\n",
    "    b = int(input(\"Introduce divisor: \"))\n",
    "    print(\"Cociente: \"+str(a//b)+\"\\nResto: \"+str(a%b))\n",
    "division() # 5, 2 = 2, 1\n",
    "division() # 6, 2 = 3, 0"
   ]
  },
  {
   "cell_type": "code",
   "execution_count": 3,
   "id": "7f8b9529",
   "metadata": {},
   "outputs": [
    {
     "name": "stdout",
     "output_type": "stream",
     "text": [
      "Introduce un número: 25\n",
      "Introduce un número: 26\n",
      "Introduce un número: 0\n"
     ]
    },
    {
     "data": {
      "text/plain": [
       "True"
      ]
     },
     "execution_count": 3,
     "metadata": {},
     "output_type": "execute_result"
    }
   ],
   "source": [
    "import math\n",
    "def esCuadradoPerfecto():\n",
    "    x = int(input(\"Introduce un número: \"))\n",
    "    return math.sqrt(x) == math.trunc(math.sqrt(x))\n",
    "esCuadradoPerfecto() # 25 True\n",
    "esCuadradoPerfecto() # 26 False\n",
    "esCuadradoPerfecto() # 0 True"
   ]
  },
  {
   "cell_type": "code",
   "execution_count": 4,
   "id": "e60d785a",
   "metadata": {},
   "outputs": [
    {
     "data": {
      "text/plain": [
       "False"
      ]
     },
     "execution_count": 4,
     "metadata": {},
     "output_type": "execute_result"
    }
   ],
   "source": [
    "def esMultiplo(a, b):\n",
    "    return a%b==0\n",
    "def esBisiesto(anyo):\n",
    "    return esMultiplo(anyo, 4) and (not esMultiplo(anyo, 100) or esMultiplo(anyo, 400))\n",
    "esBisiesto(2021) # False\n",
    "esBisiesto(2020) # True\n",
    "esBisiesto(2000) # True\n",
    "esBisiesto(2100) # False"
   ]
  },
  {
   "cell_type": "code",
   "execution_count": 5,
   "id": "3bb59b89",
   "metadata": {},
   "outputs": [
    {
     "name": "stdout",
     "output_type": "stream",
     "text": [
      "Introduce letra: d\n",
      "Introduce número: 4\n",
      "Casilla negra\n",
      "Introduce letra: h\n",
      "Introduce número: 5\n",
      "Casilla blanca\n",
      "Introduce letra: a\n",
      "Introduce número: 8\n",
      "Casilla blanca\n"
     ]
    }
   ],
   "source": [
    "def colorCasilla():\n",
    "    letra = input(\"Introduce letra: \")\n",
    "    numero = int(input(\"Introduce número: \"))\n",
    "    if letra not in [\"a\", \"b\", \"c\", \"d\", \"e\", \"f\", \"g\", \"h\"] or numero not in [1, 2, 3, 4, 5, 6, 7, 8]:\n",
    "        print(\"No existe esa casilla\")\n",
    "    else:\n",
    "        if letra in [\"a\", \"c\", \"e\", \"g\"]:\n",
    "            numero += 1\n",
    "        if numero%2==0:\n",
    "            print(\"Casilla negra\")\n",
    "        else:\n",
    "            print(\"Casilla blanca\")  \n",
    "colorCasilla() # d, 4 \"Casilla negra\"  \n",
    "colorCasilla() # c, 6 \"Casilla blanca\"  \n",
    "colorCasilla() # h, 5 \"Casilla blanca\""
   ]
  },
  {
   "cell_type": "code",
   "execution_count": null,
   "id": "761bd3c1",
   "metadata": {},
   "outputs": [],
   "source": []
  }
 ],
 "metadata": {
  "kernelspec": {
   "display_name": "Python 3",
   "language": "python",
   "name": "python3"
  },
  "language_info": {
   "codemirror_mode": {
    "name": "ipython",
    "version": 3
   },
   "file_extension": ".py",
   "mimetype": "text/x-python",
   "name": "python",
   "nbconvert_exporter": "python",
   "pygments_lexer": "ipython3",
   "version": "3.8.10"
  }
 },
 "nbformat": 4,
 "nbformat_minor": 5
}
